{
 "cells": [
  {
   "cell_type": "code",
   "execution_count": 1,
   "metadata": {},
   "outputs": [],
   "source": [
    "import pandas as pd\n",
    "import numpy as np\n",
    "import matplotlib.pyplot as plt"
   ]
  },
  {
   "cell_type": "code",
   "execution_count": 2,
   "metadata": {},
   "outputs": [
    {
     "name": "stdout",
     "output_type": "stream",
     "text": [
      "(68124, 7)\n"
     ]
    }
   ],
   "source": [
    "# read data\n",
    "aa = pd.read_csv('attribution_allocation_student_data.csv')\n",
    "print(aa.shape)"
   ]
  },
  {
   "cell_type": "code",
   "execution_count": 3,
   "metadata": {},
   "outputs": [
    {
     "data": {
      "text/html": [
       "<div>\n",
       "<style scoped>\n",
       "    .dataframe tbody tr th:only-of-type {\n",
       "        vertical-align: middle;\n",
       "    }\n",
       "\n",
       "    .dataframe tbody tr th {\n",
       "        vertical-align: top;\n",
       "    }\n",
       "\n",
       "    .dataframe thead th {\n",
       "        text-align: right;\n",
       "    }\n",
       "</style>\n",
       "<table border=\"1\" class=\"dataframe\">\n",
       "  <thead>\n",
       "    <tr style=\"text-align: right;\">\n",
       "      <th></th>\n",
       "      <th>convert_TF</th>\n",
       "      <th>touch1</th>\n",
       "      <th>touch2</th>\n",
       "      <th>touch3</th>\n",
       "      <th>touch4</th>\n",
       "      <th>touch5</th>\n",
       "      <th>tier</th>\n",
       "    </tr>\n",
       "  </thead>\n",
       "  <tbody>\n",
       "    <tr>\n",
       "      <th>0</th>\n",
       "      <td>True</td>\n",
       "      <td>email</td>\n",
       "      <td>referral</td>\n",
       "      <td>referral</td>\n",
       "      <td>NaN</td>\n",
       "      <td>NaN</td>\n",
       "      <td>1</td>\n",
       "    </tr>\n",
       "    <tr>\n",
       "      <th>1</th>\n",
       "      <td>True</td>\n",
       "      <td>referral</td>\n",
       "      <td>referral</td>\n",
       "      <td>email</td>\n",
       "      <td>NaN</td>\n",
       "      <td>NaN</td>\n",
       "      <td>1</td>\n",
       "    </tr>\n",
       "  </tbody>\n",
       "</table>\n",
       "</div>"
      ],
      "text/plain": [
       "   convert_TF    touch1    touch2    touch3 touch4 touch5  tier\n",
       "0        True     email  referral  referral    NaN    NaN     1\n",
       "1        True  referral  referral     email    NaN    NaN     1"
      ]
     },
     "execution_count": 3,
     "metadata": {},
     "output_type": "execute_result"
    }
   ],
   "source": [
    "aa.head(2)"
   ]
  },
  {
   "cell_type": "code",
   "execution_count": 4,
   "metadata": {},
   "outputs": [
    {
     "name": "stdout",
     "output_type": "stream",
     "text": [
      "   convert_TF    touch1    touch2    touch3 touch4 touch5  tier\n",
      "0        True     email  referral  referral      0      0     1\n",
      "1        True  referral  referral     email      0      0     1\n"
     ]
    }
   ],
   "source": [
    "# deal with missing values\n",
    "aa.fillna(0, inplace = True)\n",
    "print(aa.head(2))"
   ]
  },
  {
   "cell_type": "code",
   "execution_count": 5,
   "metadata": {},
   "outputs": [
    {
     "data": {
      "text/plain": [
       "count     68124\n",
       "unique        2\n",
       "top       False\n",
       "freq      54345\n",
       "Name: convert_TF, dtype: object"
      ]
     },
     "execution_count": 5,
     "metadata": {},
     "output_type": "execute_result"
    }
   ],
   "source": [
    "aa.convert_TF.describe()"
   ]
  },
  {
   "cell_type": "code",
   "execution_count": 6,
   "metadata": {},
   "outputs": [
    {
     "name": "stdout",
     "output_type": "stream",
     "text": [
      "<class 'pandas.core.frame.DataFrame'>\n"
     ]
    }
   ],
   "source": [
    "# filter the dataframe by the value of'convert_TF' == True\n",
    "indices = aa['convert_TF'] == True\n",
    "con = aa.loc[indices,:]\n",
    "print(type(con))"
   ]
  },
  {
   "cell_type": "code",
   "execution_count": 7,
   "metadata": {},
   "outputs": [
    {
     "name": "stderr",
     "output_type": "stream",
     "text": [
      "C:\\Users\\21024\\anaconda3\\lib\\site-packages\\pandas\\core\\frame.py:4125: SettingWithCopyWarning: \n",
      "A value is trying to be set on a copy of a slice from a DataFrame\n",
      "\n",
      "See the caveats in the documentation: https://pandas.pydata.org/pandas-docs/stable/user_guide/indexing.html#returning-a-view-versus-a-copy\n",
      "  return super().rename(\n"
     ]
    }
   ],
   "source": [
    "# rename the convert_TF column\n",
    "con.rename(columns = {'convert_TF': 'convert_T'}, inplace = True)"
   ]
  },
  {
   "cell_type": "code",
   "execution_count": 8,
   "metadata": {},
   "outputs": [
    {
     "data": {
      "text/plain": [
       "count     13779\n",
       "unique        1\n",
       "top        True\n",
       "freq      13779\n",
       "Name: convert_T, dtype: object"
      ]
     },
     "execution_count": 8,
     "metadata": {},
     "output_type": "execute_result"
    }
   ],
   "source": [
    "con.convert_T.describe()"
   ]
  },
  {
   "cell_type": "code",
   "execution_count": 9,
   "metadata": {},
   "outputs": [
    {
     "data": {
      "text/plain": [
       "array([1, 2, 3], dtype=int64)"
      ]
     },
     "execution_count": 9,
     "metadata": {},
     "output_type": "execute_result"
    }
   ],
   "source": [
    "con.tier.unique()"
   ]
  },
  {
   "cell_type": "code",
   "execution_count": 10,
   "metadata": {},
   "outputs": [],
   "source": [
    "# extract new dataframe for tier1, tier2, tier3\n",
    "indices = con.tier == 1\n",
    "tier1 = con.loc[indices,:]\n",
    "indices = con.tier == 2\n",
    "tier2 = con.loc[indices,:]   \n",
    "indices = con.tier == 3\n",
    "tier3 = con.loc[indices,:]"
   ]
  },
  {
   "cell_type": "code",
   "execution_count": 11,
   "metadata": {},
   "outputs": [
    {
     "name": "stdout",
     "output_type": "stream",
     "text": [
      "(2824, 7)\n",
      "(4892, 7)\n",
      "(6063, 7)\n"
     ]
    }
   ],
   "source": [
    "print(tier1.shape)\n",
    "print(tier2.shape)\n",
    "print(tier3.shape)"
   ]
  },
  {
   "cell_type": "code",
   "execution_count": 12,
   "metadata": {},
   "outputs": [],
   "source": [
    "# print(aa[aa.tier == 1].shape)\n",
    "# print(aa[aa.tier == 2].shape)\n",
    "# print(aa[aa.tier == 3].shape)"
   ]
  },
  {
   "cell_type": "code",
   "execution_count": 13,
   "metadata": {},
   "outputs": [],
   "source": [
    "# x = [2824, 4892, 6063]\n",
    "# y = [11354, 22708, 34062]\n",
    "# con_rate = []\n",
    "# for i in range(3):\n",
    "#     con_rate.append(round(x[i]/y[i],2))\n",
    "# con_rate"
   ]
  },
  {
   "cell_type": "code",
   "execution_count": 14,
   "metadata": {},
   "outputs": [],
   "source": [
    "# # create a table to describe the convertion rate of each tier\n",
    "# convertion_rate = pd.DataFrame(con_rate, index = ['tier1', 'tier2', 'tier3'], columns = ['convertion_rate'])\n",
    "# convertion_rate"
   ]
  },
  {
   "cell_type": "code",
   "execution_count": 15,
   "metadata": {},
   "outputs": [
    {
     "data": {
      "text/html": [
       "<div>\n",
       "<style scoped>\n",
       "    .dataframe tbody tr th:only-of-type {\n",
       "        vertical-align: middle;\n",
       "    }\n",
       "\n",
       "    .dataframe tbody tr th {\n",
       "        vertical-align: top;\n",
       "    }\n",
       "\n",
       "    .dataframe thead th {\n",
       "        text-align: right;\n",
       "    }\n",
       "</style>\n",
       "<table border=\"1\" class=\"dataframe\">\n",
       "  <thead>\n",
       "    <tr style=\"text-align: right;\">\n",
       "      <th></th>\n",
       "      <th>convert_T</th>\n",
       "      <th>touch1</th>\n",
       "      <th>touch2</th>\n",
       "      <th>touch3</th>\n",
       "      <th>touch4</th>\n",
       "      <th>touch5</th>\n",
       "      <th>tier</th>\n",
       "    </tr>\n",
       "  </thead>\n",
       "  <tbody>\n",
       "    <tr>\n",
       "      <th>34062</th>\n",
       "      <td>True</td>\n",
       "      <td>referral</td>\n",
       "      <td>email</td>\n",
       "      <td>0</td>\n",
       "      <td>0</td>\n",
       "      <td>0</td>\n",
       "      <td>3</td>\n",
       "    </tr>\n",
       "    <tr>\n",
       "      <th>34063</th>\n",
       "      <td>True</td>\n",
       "      <td>referral</td>\n",
       "      <td>referral</td>\n",
       "      <td>email</td>\n",
       "      <td>0</td>\n",
       "      <td>0</td>\n",
       "      <td>3</td>\n",
       "    </tr>\n",
       "  </tbody>\n",
       "</table>\n",
       "</div>"
      ],
      "text/plain": [
       "       convert_T    touch1    touch2 touch3 touch4 touch5  tier\n",
       "34062       True  referral     email      0      0      0     3\n",
       "34063       True  referral  referral  email      0      0     3"
      ]
     },
     "execution_count": 15,
     "metadata": {},
     "output_type": "execute_result"
    }
   ],
   "source": [
    "tier3.head(2)"
   ]
  },
  {
   "cell_type": "code",
   "execution_count": 16,
   "metadata": {},
   "outputs": [],
   "source": [
    "# create a function to return a list of touches\n",
    "def touch_list(df):\n",
    "    touch = df[df.columns[1:6]].values.tolist()\n",
    "    return touch     "
   ]
  },
  {
   "cell_type": "code",
   "execution_count": 17,
   "metadata": {},
   "outputs": [],
   "source": [
    "t1_touch = touch_list(tier1)\n",
    "t2_touch = touch_list(tier2)\n",
    "t3_touch = touch_list(tier3)"
   ]
  },
  {
   "cell_type": "code",
   "execution_count": 18,
   "metadata": {},
   "outputs": [],
   "source": [
    "#pip install demjson"
   ]
  },
  {
   "cell_type": "code",
   "execution_count": 19,
   "metadata": {},
   "outputs": [
    {
     "data": {
      "text/html": [
       "<div>\n",
       "<style scoped>\n",
       "    .dataframe tbody tr th:only-of-type {\n",
       "        vertical-align: middle;\n",
       "    }\n",
       "\n",
       "    .dataframe tbody tr th {\n",
       "        vertical-align: top;\n",
       "    }\n",
       "\n",
       "    .dataframe thead th {\n",
       "        text-align: right;\n",
       "    }\n",
       "</style>\n",
       "<table border=\"1\" class=\"dataframe\">\n",
       "  <thead>\n",
       "    <tr style=\"text-align: right;\">\n",
       "      <th></th>\n",
       "      <th>email</th>\n",
       "      <th>social</th>\n",
       "      <th>display</th>\n",
       "      <th>paid_search</th>\n",
       "      <th>referral</th>\n",
       "      <th>organic_search</th>\n",
       "      <th>direct</th>\n",
       "    </tr>\n",
       "  </thead>\n",
       "  <tbody>\n",
       "    <tr>\n",
       "      <th>0</th>\n",
       "      <td>1000.0</td>\n",
       "      <td>1000.0000000000001</td>\n",
       "      <td>1000.0</td>\n",
       "      <td>1000.0</td>\n",
       "      <td>1000.0</td>\n",
       "      <td>0.0</td>\n",
       "      <td>0.0</td>\n",
       "    </tr>\n",
       "    <tr>\n",
       "      <th>1</th>\n",
       "      <td>2000.0</td>\n",
       "      <td>2000</td>\n",
       "      <td>2000.0</td>\n",
       "      <td>2000.0</td>\n",
       "      <td>2000.0</td>\n",
       "      <td>0.0</td>\n",
       "      <td>0.0</td>\n",
       "    </tr>\n",
       "    <tr>\n",
       "      <th>2</th>\n",
       "      <td>3000.0</td>\n",
       "      <td>3000</td>\n",
       "      <td>3000.0</td>\n",
       "      <td>3000.0</td>\n",
       "      <td>3000.0</td>\n",
       "      <td>0.0</td>\n",
       "      <td>0.0</td>\n",
       "    </tr>\n",
       "  </tbody>\n",
       "</table>\n",
       "</div>"
      ],
      "text/plain": [
       "    email              social  display  paid_search  referral  organic_search  \\\n",
       "0  1000.0  1000.0000000000001   1000.0       1000.0    1000.0             0.0   \n",
       "1  2000.0                2000   2000.0       2000.0    2000.0             0.0   \n",
       "2  3000.0                3000   3000.0       3000.0    3000.0             0.0   \n",
       "\n",
       "   direct  \n",
       "0     0.0  \n",
       "1     0.0  \n",
       "2     0.0  "
      ]
     },
     "execution_count": 19,
     "metadata": {},
     "output_type": "execute_result"
    }
   ],
   "source": [
    "# read the channel_spend file\n",
    "import demjson\n",
    "spend = pd.read_csv('channel_spend_student_data.csv', index_col = 0)\n",
    "s_lst  = spend.values.tolist()\n",
    "s_df = pd.DataFrame([demjson.decode(s_lst[0][0])])\n",
    "for i in range(1, len(s_lst)):\n",
    "    n_df = pd.DataFrame([demjson.decode(s_lst[i][0])])\n",
    "    s_df = s_df.append(n_df, ignore_index = True)   \n",
    "s_df"
   ]
  },
  {
   "cell_type": "code",
   "execution_count": 20,
   "metadata": {},
   "outputs": [],
   "source": [
    "s_df.loc[0,'social'] = 1000"
   ]
  },
  {
   "cell_type": "code",
   "execution_count": 21,
   "metadata": {},
   "outputs": [
    {
     "data": {
      "text/html": [
       "<div>\n",
       "<style scoped>\n",
       "    .dataframe tbody tr th:only-of-type {\n",
       "        vertical-align: middle;\n",
       "    }\n",
       "\n",
       "    .dataframe tbody tr th {\n",
       "        vertical-align: top;\n",
       "    }\n",
       "\n",
       "    .dataframe thead th {\n",
       "        text-align: right;\n",
       "    }\n",
       "</style>\n",
       "<table border=\"1\" class=\"dataframe\">\n",
       "  <thead>\n",
       "    <tr style=\"text-align: right;\">\n",
       "      <th></th>\n",
       "      <th>email</th>\n",
       "      <th>social</th>\n",
       "      <th>display</th>\n",
       "      <th>paid_search</th>\n",
       "      <th>referral</th>\n",
       "      <th>organic_search</th>\n",
       "      <th>direct</th>\n",
       "    </tr>\n",
       "  </thead>\n",
       "  <tbody>\n",
       "    <tr>\n",
       "      <th>tier1</th>\n",
       "      <td>1000.0</td>\n",
       "      <td>1000</td>\n",
       "      <td>1000.0</td>\n",
       "      <td>1000.0</td>\n",
       "      <td>1000.0</td>\n",
       "      <td>0.0</td>\n",
       "      <td>0.0</td>\n",
       "    </tr>\n",
       "    <tr>\n",
       "      <th>tier2</th>\n",
       "      <td>2000.0</td>\n",
       "      <td>2000</td>\n",
       "      <td>2000.0</td>\n",
       "      <td>2000.0</td>\n",
       "      <td>2000.0</td>\n",
       "      <td>0.0</td>\n",
       "      <td>0.0</td>\n",
       "    </tr>\n",
       "    <tr>\n",
       "      <th>tier3</th>\n",
       "      <td>3000.0</td>\n",
       "      <td>3000</td>\n",
       "      <td>3000.0</td>\n",
       "      <td>3000.0</td>\n",
       "      <td>3000.0</td>\n",
       "      <td>0.0</td>\n",
       "      <td>0.0</td>\n",
       "    </tr>\n",
       "  </tbody>\n",
       "</table>\n",
       "</div>"
      ],
      "text/plain": [
       "        email social  display  paid_search  referral  organic_search  direct\n",
       "tier1  1000.0   1000   1000.0       1000.0    1000.0             0.0     0.0\n",
       "tier2  2000.0   2000   2000.0       2000.0    2000.0             0.0     0.0\n",
       "tier3  3000.0   3000   3000.0       3000.0    3000.0             0.0     0.0"
      ]
     },
     "execution_count": 21,
     "metadata": {},
     "output_type": "execute_result"
    }
   ],
   "source": [
    "s_df.rename(index = {0:'tier1', 1:'tier2', 2:'tier3'}, inplace = True)\n",
    "s_df"
   ]
  },
  {
   "cell_type": "code",
   "execution_count": 22,
   "metadata": {},
   "outputs": [
    {
     "data": {
      "text/plain": [
       "1000.0"
      ]
     },
     "execution_count": 22,
     "metadata": {},
     "output_type": "execute_result"
    }
   ],
   "source": [
    "s_df.loc['tier1', 'email']"
   ]
  },
  {
   "cell_type": "markdown",
   "metadata": {},
   "source": [
    "# Part 1, attribution "
   ]
  },
  {
   "cell_type": "markdown",
   "metadata": {},
   "source": [
    "## 1.1 Test 3 methods for allocation"
   ]
  },
  {
   "cell_type": "markdown",
   "metadata": {},
   "source": [
    "### 1.1.1 Last interaction"
   ]
  },
  {
   "cell_type": "code",
   "execution_count": 23,
   "metadata": {},
   "outputs": [],
   "source": [
    "def last_interaction(touch_lst):\n",
    "    '''\n",
    "    This function returns the count of each channel under the last interaction allocation method\n",
    "    '''\n",
    "    count_dict = {}\n",
    "    for i in range(len(touch_lst)):\n",
    "        for x in range(4,-1, -1):\n",
    "            if touch_lst[i][x] != 0:\n",
    "                if touch_lst[i][x] not in count_dict:\n",
    "                    count_dict[touch_lst[i][x]] = 1\n",
    "                else:\n",
    "                    count_dict[touch_lst[i][x]] += 1\n",
    "                break\n",
    "    return count_dict"
   ]
  },
  {
   "cell_type": "code",
   "execution_count": 24,
   "metadata": {},
   "outputs": [],
   "source": [
    "tier1_count = last_interaction(t1_touch)\n",
    "tier2_count = last_interaction(t2_touch)\n",
    "tier3_count = last_interaction(t3_touch)"
   ]
  },
  {
   "cell_type": "code",
   "execution_count": 25,
   "metadata": {},
   "outputs": [
    {
     "data": {
      "text/plain": [
       "{'referral': 1187,\n",
       " 'email': 299,\n",
       " 'social': 622,\n",
       " 'display': 531,\n",
       " 'paid_search': 180,\n",
       " 'organic_search': 2,\n",
       " 'direct': 3}"
      ]
     },
     "execution_count": 25,
     "metadata": {},
     "output_type": "execute_result"
    }
   ],
   "source": [
    "tier1_count"
   ]
  },
  {
   "cell_type": "code",
   "execution_count": 26,
   "metadata": {},
   "outputs": [],
   "source": [
    "def cal_cac(count_touch_dict, group, df):\n",
    "    '''\n",
    "    This function calculates the average CAC of each channel in a tier\n",
    "    '''\n",
    "    cac_dict = {}\n",
    "    for k, v in count_touch_dict.items():\n",
    "        cac_dict[k] = round(df.loc[group, k]/v, 2) # round values to 2 decimals\n",
    "    return pd.DataFrame([cac_dict])\n"
   ]
  },
  {
   "cell_type": "code",
   "execution_count": 27,
   "metadata": {},
   "outputs": [
    {
     "data": {
      "text/html": [
       "<div>\n",
       "<style scoped>\n",
       "    .dataframe tbody tr th:only-of-type {\n",
       "        vertical-align: middle;\n",
       "    }\n",
       "\n",
       "    .dataframe tbody tr th {\n",
       "        vertical-align: top;\n",
       "    }\n",
       "\n",
       "    .dataframe thead th {\n",
       "        text-align: right;\n",
       "    }\n",
       "</style>\n",
       "<table border=\"1\" class=\"dataframe\">\n",
       "  <thead>\n",
       "    <tr style=\"text-align: right;\">\n",
       "      <th></th>\n",
       "      <th>referral</th>\n",
       "      <th>email</th>\n",
       "      <th>social</th>\n",
       "      <th>display</th>\n",
       "      <th>paid_search</th>\n",
       "      <th>organic_search</th>\n",
       "      <th>direct</th>\n",
       "    </tr>\n",
       "  </thead>\n",
       "  <tbody>\n",
       "    <tr>\n",
       "      <th>0</th>\n",
       "      <td>0.84</td>\n",
       "      <td>3.34</td>\n",
       "      <td>1.61</td>\n",
       "      <td>1.88</td>\n",
       "      <td>5.56</td>\n",
       "      <td>0.0</td>\n",
       "      <td>0.0</td>\n",
       "    </tr>\n",
       "  </tbody>\n",
       "</table>\n",
       "</div>"
      ],
      "text/plain": [
       "   referral  email  social  display  paid_search  organic_search  direct\n",
       "0      0.84   3.34    1.61     1.88         5.56             0.0     0.0"
      ]
     },
     "execution_count": 27,
     "metadata": {},
     "output_type": "execute_result"
    }
   ],
   "source": [
    "tier1_cac = cal_cac(count_touch_dict = tier1_count, group = 'tier1',df = s_df)\n",
    "tier1_cac"
   ]
  },
  {
   "cell_type": "code",
   "execution_count": 28,
   "metadata": {},
   "outputs": [
    {
     "data": {
      "text/html": [
       "<div>\n",
       "<style scoped>\n",
       "    .dataframe tbody tr th:only-of-type {\n",
       "        vertical-align: middle;\n",
       "    }\n",
       "\n",
       "    .dataframe tbody tr th {\n",
       "        vertical-align: top;\n",
       "    }\n",
       "\n",
       "    .dataframe thead th {\n",
       "        text-align: right;\n",
       "    }\n",
       "</style>\n",
       "<table border=\"1\" class=\"dataframe\">\n",
       "  <thead>\n",
       "    <tr style=\"text-align: right;\">\n",
       "      <th></th>\n",
       "      <th>email</th>\n",
       "      <th>display</th>\n",
       "      <th>referral</th>\n",
       "      <th>social</th>\n",
       "      <th>paid_search</th>\n",
       "      <th>organic_search</th>\n",
       "    </tr>\n",
       "  </thead>\n",
       "  <tbody>\n",
       "    <tr>\n",
       "      <th>0</th>\n",
       "      <td>3.76</td>\n",
       "      <td>2.43</td>\n",
       "      <td>0.94</td>\n",
       "      <td>1.87</td>\n",
       "      <td>5.88</td>\n",
       "      <td>0.0</td>\n",
       "    </tr>\n",
       "  </tbody>\n",
       "</table>\n",
       "</div>"
      ],
      "text/plain": [
       "   email  display  referral  social  paid_search  organic_search\n",
       "0   3.76     2.43      0.94    1.87         5.88             0.0"
      ]
     },
     "execution_count": 28,
     "metadata": {},
     "output_type": "execute_result"
    }
   ],
   "source": [
    "tier2_cac = cal_cac(count_touch_dict = tier2_count, group = 'tier2',df = s_df)\n",
    "tier2_cac"
   ]
  },
  {
   "cell_type": "code",
   "execution_count": 29,
   "metadata": {},
   "outputs": [
    {
     "data": {
      "text/html": [
       "<div>\n",
       "<style scoped>\n",
       "    .dataframe tbody tr th:only-of-type {\n",
       "        vertical-align: middle;\n",
       "    }\n",
       "\n",
       "    .dataframe tbody tr th {\n",
       "        vertical-align: top;\n",
       "    }\n",
       "\n",
       "    .dataframe thead th {\n",
       "        text-align: right;\n",
       "    }\n",
       "</style>\n",
       "<table border=\"1\" class=\"dataframe\">\n",
       "  <thead>\n",
       "    <tr style=\"text-align: right;\">\n",
       "      <th></th>\n",
       "      <th>email</th>\n",
       "      <th>paid_search</th>\n",
       "      <th>referral</th>\n",
       "      <th>social</th>\n",
       "      <th>display</th>\n",
       "      <th>direct</th>\n",
       "      <th>organic_search</th>\n",
       "    </tr>\n",
       "  </thead>\n",
       "  <tbody>\n",
       "    <tr>\n",
       "      <th>0</th>\n",
       "      <td>4.37</td>\n",
       "      <td>6.2</td>\n",
       "      <td>1.12</td>\n",
       "      <td>2.39</td>\n",
       "      <td>3.13</td>\n",
       "      <td>0.0</td>\n",
       "      <td>0.0</td>\n",
       "    </tr>\n",
       "  </tbody>\n",
       "</table>\n",
       "</div>"
      ],
      "text/plain": [
       "   email  paid_search  referral  social  display  direct  organic_search\n",
       "0   4.37          6.2      1.12    2.39     3.13     0.0             0.0"
      ]
     },
     "execution_count": 29,
     "metadata": {},
     "output_type": "execute_result"
    }
   ],
   "source": [
    "tier3_cac = cal_cac(count_touch_dict = tier3_count, group = 'tier3',df = s_df)\n",
    "tier3_cac"
   ]
  },
  {
   "cell_type": "code",
   "execution_count": 30,
   "metadata": {},
   "outputs": [],
   "source": [
    "frames = [tier1_cac, tier2_cac, tier3_cac]\n",
    "last_result = pd.concat(frames, keys=['tier1', 'tier2', 'tier3'])"
   ]
  },
  {
   "cell_type": "code",
   "execution_count": 31,
   "metadata": {},
   "outputs": [
    {
     "data": {
      "text/html": [
       "<div>\n",
       "<style scoped>\n",
       "    .dataframe tbody tr th:only-of-type {\n",
       "        vertical-align: middle;\n",
       "    }\n",
       "\n",
       "    .dataframe tbody tr th {\n",
       "        vertical-align: top;\n",
       "    }\n",
       "\n",
       "    .dataframe thead th {\n",
       "        text-align: right;\n",
       "    }\n",
       "</style>\n",
       "<table border=\"1\" class=\"dataframe\">\n",
       "  <thead>\n",
       "    <tr style=\"text-align: right;\">\n",
       "      <th></th>\n",
       "      <th></th>\n",
       "      <th>referral</th>\n",
       "      <th>email</th>\n",
       "      <th>social</th>\n",
       "      <th>display</th>\n",
       "      <th>paid_search</th>\n",
       "      <th>organic_search</th>\n",
       "      <th>direct</th>\n",
       "    </tr>\n",
       "  </thead>\n",
       "  <tbody>\n",
       "    <tr>\n",
       "      <th>tier1</th>\n",
       "      <th>0</th>\n",
       "      <td>0.84</td>\n",
       "      <td>3.34</td>\n",
       "      <td>1.61</td>\n",
       "      <td>1.88</td>\n",
       "      <td>5.56</td>\n",
       "      <td>0.0</td>\n",
       "      <td>0.0</td>\n",
       "    </tr>\n",
       "    <tr>\n",
       "      <th>tier2</th>\n",
       "      <th>0</th>\n",
       "      <td>0.94</td>\n",
       "      <td>3.76</td>\n",
       "      <td>1.87</td>\n",
       "      <td>2.43</td>\n",
       "      <td>5.88</td>\n",
       "      <td>0.0</td>\n",
       "      <td>NaN</td>\n",
       "    </tr>\n",
       "    <tr>\n",
       "      <th>tier3</th>\n",
       "      <th>0</th>\n",
       "      <td>1.12</td>\n",
       "      <td>4.37</td>\n",
       "      <td>2.39</td>\n",
       "      <td>3.13</td>\n",
       "      <td>6.20</td>\n",
       "      <td>0.0</td>\n",
       "      <td>0.0</td>\n",
       "    </tr>\n",
       "  </tbody>\n",
       "</table>\n",
       "</div>"
      ],
      "text/plain": [
       "         referral  email  social  display  paid_search  organic_search  direct\n",
       "tier1 0      0.84   3.34    1.61     1.88         5.56             0.0     0.0\n",
       "tier2 0      0.94   3.76    1.87     2.43         5.88             0.0     NaN\n",
       "tier3 0      1.12   4.37    2.39     3.13         6.20             0.0     0.0"
      ]
     },
     "execution_count": 31,
     "metadata": {},
     "output_type": "execute_result"
    }
   ],
   "source": [
    "last_result"
   ]
  },
  {
   "cell_type": "markdown",
   "metadata": {},
   "source": [
    "### 1.1.2 linear model"
   ]
  },
  {
   "cell_type": "code",
   "execution_count": 32,
   "metadata": {},
   "outputs": [],
   "source": [
    "def linear_model(touch_lst):\n",
    "    '''\n",
    "    This function returns the count of each channel under the linear model allocation method\n",
    "    '''\n",
    "    count_dict = {}\n",
    "    for i in range(len(touch_lst)):\n",
    "        # count the number of element which is not euqal to 0\n",
    "        length = 5- touch_lst[i].count(0)\n",
    "        ratio = 1/length\n",
    "        for x in range(5):\n",
    "            if touch_lst[i][x] != 0:\n",
    "                if touch_lst[i][x] not in count_dict:\n",
    "                    count_dict[touch_lst[i][x]] = 1*ratio\n",
    "                else:\n",
    "                    count_dict[touch_lst[i][x]] += 1*ratio\n",
    "    return count_dict"
   ]
  },
  {
   "cell_type": "code",
   "execution_count": 33,
   "metadata": {},
   "outputs": [],
   "source": [
    "tier1_count_lm = linear_model(t1_touch)\n",
    "tier2_count_lm = linear_model(t2_touch)\n",
    "tier3_count_lm = linear_model(t3_touch)"
   ]
  },
  {
   "cell_type": "code",
   "execution_count": 34,
   "metadata": {},
   "outputs": [
    {
     "data": {
      "text/plain": [
       "{'email': 243.666666666667,\n",
       " 'referral': 1503.1166666666657,\n",
       " 'social': 479.0166666666614,\n",
       " 'display': 466.43333333332856,\n",
       " 'paid_search': 127.16666666666646,\n",
       " 'direct': 2.25,\n",
       " 'organic_search': 2.35}"
      ]
     },
     "execution_count": 34,
     "metadata": {},
     "output_type": "execute_result"
    }
   ],
   "source": [
    "tier1_count_lm"
   ]
  },
  {
   "cell_type": "code",
   "execution_count": 35,
   "metadata": {},
   "outputs": [
    {
     "data": {
      "text/html": [
       "<div>\n",
       "<style scoped>\n",
       "    .dataframe tbody tr th:only-of-type {\n",
       "        vertical-align: middle;\n",
       "    }\n",
       "\n",
       "    .dataframe tbody tr th {\n",
       "        vertical-align: top;\n",
       "    }\n",
       "\n",
       "    .dataframe thead th {\n",
       "        text-align: right;\n",
       "    }\n",
       "</style>\n",
       "<table border=\"1\" class=\"dataframe\">\n",
       "  <thead>\n",
       "    <tr style=\"text-align: right;\">\n",
       "      <th></th>\n",
       "      <th>email</th>\n",
       "      <th>referral</th>\n",
       "      <th>social</th>\n",
       "      <th>display</th>\n",
       "      <th>paid_search</th>\n",
       "      <th>direct</th>\n",
       "      <th>organic_search</th>\n",
       "    </tr>\n",
       "  </thead>\n",
       "  <tbody>\n",
       "    <tr>\n",
       "      <th>0</th>\n",
       "      <td>4.1</td>\n",
       "      <td>0.67</td>\n",
       "      <td>2.09</td>\n",
       "      <td>2.14</td>\n",
       "      <td>7.86</td>\n",
       "      <td>0.0</td>\n",
       "      <td>0.0</td>\n",
       "    </tr>\n",
       "  </tbody>\n",
       "</table>\n",
       "</div>"
      ],
      "text/plain": [
       "   email  referral  social  display  paid_search  direct  organic_search\n",
       "0    4.1      0.67    2.09     2.14         7.86     0.0             0.0"
      ]
     },
     "execution_count": 35,
     "metadata": {},
     "output_type": "execute_result"
    }
   ],
   "source": [
    "tier1_cac_lm = cal_cac(count_touch_dict = tier1_count_lm, group = 'tier1',df = s_df)\n",
    "tier1_cac_lm"
   ]
  },
  {
   "cell_type": "code",
   "execution_count": 36,
   "metadata": {},
   "outputs": [
    {
     "data": {
      "text/html": [
       "<div>\n",
       "<style scoped>\n",
       "    .dataframe tbody tr th:only-of-type {\n",
       "        vertical-align: middle;\n",
       "    }\n",
       "\n",
       "    .dataframe tbody tr th {\n",
       "        vertical-align: top;\n",
       "    }\n",
       "\n",
       "    .dataframe thead th {\n",
       "        text-align: right;\n",
       "    }\n",
       "</style>\n",
       "<table border=\"1\" class=\"dataframe\">\n",
       "  <thead>\n",
       "    <tr style=\"text-align: right;\">\n",
       "      <th></th>\n",
       "      <th>referral</th>\n",
       "      <th>email</th>\n",
       "      <th>display</th>\n",
       "      <th>social</th>\n",
       "      <th>paid_search</th>\n",
       "      <th>organic_search</th>\n",
       "      <th>direct</th>\n",
       "    </tr>\n",
       "  </thead>\n",
       "  <tbody>\n",
       "    <tr>\n",
       "      <th>0</th>\n",
       "      <td>0.75</td>\n",
       "      <td>4.77</td>\n",
       "      <td>2.8</td>\n",
       "      <td>2.43</td>\n",
       "      <td>8.11</td>\n",
       "      <td>0.0</td>\n",
       "      <td>0.0</td>\n",
       "    </tr>\n",
       "  </tbody>\n",
       "</table>\n",
       "</div>"
      ],
      "text/plain": [
       "   referral  email  display  social  paid_search  organic_search  direct\n",
       "0      0.75   4.77      2.8    2.43         8.11             0.0     0.0"
      ]
     },
     "execution_count": 36,
     "metadata": {},
     "output_type": "execute_result"
    }
   ],
   "source": [
    "tier2_cac_lm = cal_cac(count_touch_dict = tier2_count_lm, group = 'tier2',df = s_df)\n",
    "tier2_cac_lm"
   ]
  },
  {
   "cell_type": "code",
   "execution_count": 37,
   "metadata": {},
   "outputs": [
    {
     "data": {
      "text/html": [
       "<div>\n",
       "<style scoped>\n",
       "    .dataframe tbody tr th:only-of-type {\n",
       "        vertical-align: middle;\n",
       "    }\n",
       "\n",
       "    .dataframe tbody tr th {\n",
       "        vertical-align: top;\n",
       "    }\n",
       "\n",
       "    .dataframe thead th {\n",
       "        text-align: right;\n",
       "    }\n",
       "</style>\n",
       "<table border=\"1\" class=\"dataframe\">\n",
       "  <thead>\n",
       "    <tr style=\"text-align: right;\">\n",
       "      <th></th>\n",
       "      <th>referral</th>\n",
       "      <th>email</th>\n",
       "      <th>display</th>\n",
       "      <th>paid_search</th>\n",
       "      <th>social</th>\n",
       "      <th>direct</th>\n",
       "      <th>organic_search</th>\n",
       "    </tr>\n",
       "  </thead>\n",
       "  <tbody>\n",
       "    <tr>\n",
       "      <th>0</th>\n",
       "      <td>0.91</td>\n",
       "      <td>5.04</td>\n",
       "      <td>3.53</td>\n",
       "      <td>8.98</td>\n",
       "      <td>3.04</td>\n",
       "      <td>0.0</td>\n",
       "      <td>0.0</td>\n",
       "    </tr>\n",
       "  </tbody>\n",
       "</table>\n",
       "</div>"
      ],
      "text/plain": [
       "   referral  email  display  paid_search  social  direct  organic_search\n",
       "0      0.91   5.04     3.53         8.98    3.04     0.0             0.0"
      ]
     },
     "execution_count": 37,
     "metadata": {},
     "output_type": "execute_result"
    }
   ],
   "source": [
    "tier3_cac_lm = cal_cac(count_touch_dict = tier3_count_lm, group = 'tier3',df = s_df)\n",
    "tier3_cac_lm"
   ]
  },
  {
   "cell_type": "code",
   "execution_count": 38,
   "metadata": {},
   "outputs": [],
   "source": [
    "frames_lm = [tier1_cac_lm, tier2_cac_lm, tier3_cac_lm]\n",
    "last_result_lm = pd.concat(frames_lm, keys=['tier1', 'tier2', 'tier3'])"
   ]
  },
  {
   "cell_type": "code",
   "execution_count": 39,
   "metadata": {},
   "outputs": [
    {
     "data": {
      "text/html": [
       "<div>\n",
       "<style scoped>\n",
       "    .dataframe tbody tr th:only-of-type {\n",
       "        vertical-align: middle;\n",
       "    }\n",
       "\n",
       "    .dataframe tbody tr th {\n",
       "        vertical-align: top;\n",
       "    }\n",
       "\n",
       "    .dataframe thead th {\n",
       "        text-align: right;\n",
       "    }\n",
       "</style>\n",
       "<table border=\"1\" class=\"dataframe\">\n",
       "  <thead>\n",
       "    <tr style=\"text-align: right;\">\n",
       "      <th></th>\n",
       "      <th></th>\n",
       "      <th>email</th>\n",
       "      <th>referral</th>\n",
       "      <th>social</th>\n",
       "      <th>display</th>\n",
       "      <th>paid_search</th>\n",
       "      <th>direct</th>\n",
       "      <th>organic_search</th>\n",
       "    </tr>\n",
       "  </thead>\n",
       "  <tbody>\n",
       "    <tr>\n",
       "      <th>tier1</th>\n",
       "      <th>0</th>\n",
       "      <td>4.10</td>\n",
       "      <td>0.67</td>\n",
       "      <td>2.09</td>\n",
       "      <td>2.14</td>\n",
       "      <td>7.86</td>\n",
       "      <td>0.0</td>\n",
       "      <td>0.0</td>\n",
       "    </tr>\n",
       "    <tr>\n",
       "      <th>tier2</th>\n",
       "      <th>0</th>\n",
       "      <td>4.77</td>\n",
       "      <td>0.75</td>\n",
       "      <td>2.43</td>\n",
       "      <td>2.80</td>\n",
       "      <td>8.11</td>\n",
       "      <td>0.0</td>\n",
       "      <td>0.0</td>\n",
       "    </tr>\n",
       "    <tr>\n",
       "      <th>tier3</th>\n",
       "      <th>0</th>\n",
       "      <td>5.04</td>\n",
       "      <td>0.91</td>\n",
       "      <td>3.04</td>\n",
       "      <td>3.53</td>\n",
       "      <td>8.98</td>\n",
       "      <td>0.0</td>\n",
       "      <td>0.0</td>\n",
       "    </tr>\n",
       "  </tbody>\n",
       "</table>\n",
       "</div>"
      ],
      "text/plain": [
       "         email  referral  social  display  paid_search  direct  organic_search\n",
       "tier1 0   4.10      0.67    2.09     2.14         7.86     0.0             0.0\n",
       "tier2 0   4.77      0.75    2.43     2.80         8.11     0.0             0.0\n",
       "tier3 0   5.04      0.91    3.04     3.53         8.98     0.0             0.0"
      ]
     },
     "execution_count": 39,
     "metadata": {},
     "output_type": "execute_result"
    }
   ],
   "source": [
    "last_result_lm"
   ]
  },
  {
   "cell_type": "markdown",
   "metadata": {},
   "source": [
    "### 1.1.3 Position based"
   ]
  },
  {
   "cell_type": "code",
   "execution_count": 40,
   "metadata": {},
   "outputs": [],
   "source": [
    "def position_based(touch_lst):\n",
    "    '''\n",
    "    This function returns the count of each channel under the position based allocation method\n",
    "    '''\n",
    "    count_dict = {}\n",
    "    for i in range(len(touch_lst)):\n",
    "        length = 5- touch_lst[i].count(0)\n",
    "        if length >=3:\n",
    "            ratio = 1/(length-2)\n",
    "            position = []\n",
    "            # first position\n",
    "            for x in range(5):\n",
    "                if touch_lst[i][x] != 0:\n",
    "                    position.append(x)\n",
    "                    if touch_lst[i][x] not in count_dict:\n",
    "                        count_dict[touch_lst[i][x]] = 1*0.4\n",
    "                    else:\n",
    "                        count_dict[touch_lst[i][x]] += 1*0.4\n",
    "                    break\n",
    "            # last postition\n",
    "            for x in range(4,-1,-1):\n",
    "                if touch_lst[i][x] != 0:\n",
    "                    position.append(x)\n",
    "                    if touch_lst[i][x] not in count_dict:\n",
    "                        count_dict[touch_lst[i][x]] = 1*0.4\n",
    "                    else:\n",
    "                        count_dict[touch_lst[i][x]] += 1*0.4\n",
    "                    break\n",
    "            # middle position\n",
    "            for x in range(5):\n",
    "                if x not in position:\n",
    "                    if touch_lst[i][x] != 0:\n",
    "                        if touch_lst[i][x] not in count_dict:\n",
    "                            count_dict[touch_lst[i][x]] = 1*0.2*ratio\n",
    "                        else:\n",
    "                            count_dict[touch_lst[i][x]] += 1*0.2*ratio\n",
    "        if length == 2:\n",
    "            for x in range(5):\n",
    "                if touch_lst[i][x] != 0:\n",
    "                    if touch_lst[i][x] not in count_dict:\n",
    "                        count_dict[touch_lst[i][x]] = 1*0.5\n",
    "                    else:\n",
    "                        count_dict[touch_lst[i][x]] += 1*0.5\n",
    "        if length == 1:\n",
    "            for x in range(5):\n",
    "                if touch_lst[i][x] != 0:\n",
    "                    if touch_lst[i][x] not in count_dict:\n",
    "                        count_dict[touch_lst[i][x]] = 1\n",
    "                    else:\n",
    "                        count_dict[touch_lst[i][x]] += 1\n",
    "            \n",
    "    return count_dict"
   ]
  },
  {
   "cell_type": "code",
   "execution_count": 41,
   "metadata": {},
   "outputs": [],
   "source": [
    "tier1_count_pb = position_based(t1_touch)\n",
    "tier2_count_pb = position_based(t2_touch)\n",
    "tier3_count_pb = position_based(t3_touch)"
   ]
  },
  {
   "cell_type": "code",
   "execution_count": 42,
   "metadata": {},
   "outputs": [
    {
     "data": {
      "text/html": [
       "<div>\n",
       "<style scoped>\n",
       "    .dataframe tbody tr th:only-of-type {\n",
       "        vertical-align: middle;\n",
       "    }\n",
       "\n",
       "    .dataframe tbody tr th {\n",
       "        vertical-align: top;\n",
       "    }\n",
       "\n",
       "    .dataframe thead th {\n",
       "        text-align: right;\n",
       "    }\n",
       "</style>\n",
       "<table border=\"1\" class=\"dataframe\">\n",
       "  <thead>\n",
       "    <tr style=\"text-align: right;\">\n",
       "      <th></th>\n",
       "      <th>email</th>\n",
       "      <th>referral</th>\n",
       "      <th>social</th>\n",
       "      <th>display</th>\n",
       "      <th>paid_search</th>\n",
       "      <th>direct</th>\n",
       "      <th>organic_search</th>\n",
       "    </tr>\n",
       "  </thead>\n",
       "  <tbody>\n",
       "    <tr>\n",
       "      <th>0</th>\n",
       "      <td>3.87</td>\n",
       "      <td>0.7</td>\n",
       "      <td>1.95</td>\n",
       "      <td>2.05</td>\n",
       "      <td>7.07</td>\n",
       "      <td>0.0</td>\n",
       "      <td>0.0</td>\n",
       "    </tr>\n",
       "  </tbody>\n",
       "</table>\n",
       "</div>"
      ],
      "text/plain": [
       "   email  referral  social  display  paid_search  direct  organic_search\n",
       "0   3.87       0.7    1.95     2.05         7.07     0.0             0.0"
      ]
     },
     "execution_count": 42,
     "metadata": {},
     "output_type": "execute_result"
    }
   ],
   "source": [
    "tier1_cac_pb= cal_cac(count_touch_dict = tier1_count_pb, group = 'tier1',df = s_df)\n",
    "tier1_cac_pb"
   ]
  },
  {
   "cell_type": "code",
   "execution_count": 43,
   "metadata": {},
   "outputs": [
    {
     "data": {
      "text/html": [
       "<div>\n",
       "<style scoped>\n",
       "    .dataframe tbody tr th:only-of-type {\n",
       "        vertical-align: middle;\n",
       "    }\n",
       "\n",
       "    .dataframe tbody tr th {\n",
       "        vertical-align: top;\n",
       "    }\n",
       "\n",
       "    .dataframe thead th {\n",
       "        text-align: right;\n",
       "    }\n",
       "</style>\n",
       "<table border=\"1\" class=\"dataframe\">\n",
       "  <thead>\n",
       "    <tr style=\"text-align: right;\">\n",
       "      <th></th>\n",
       "      <th>referral</th>\n",
       "      <th>email</th>\n",
       "      <th>display</th>\n",
       "      <th>social</th>\n",
       "      <th>paid_search</th>\n",
       "      <th>organic_search</th>\n",
       "      <th>direct</th>\n",
       "    </tr>\n",
       "  </thead>\n",
       "  <tbody>\n",
       "    <tr>\n",
       "      <th>0</th>\n",
       "      <td>0.79</td>\n",
       "      <td>4.43</td>\n",
       "      <td>2.67</td>\n",
       "      <td>2.27</td>\n",
       "      <td>7.39</td>\n",
       "      <td>0.0</td>\n",
       "      <td>0.0</td>\n",
       "    </tr>\n",
       "  </tbody>\n",
       "</table>\n",
       "</div>"
      ],
      "text/plain": [
       "   referral  email  display  social  paid_search  organic_search  direct\n",
       "0      0.79   4.43     2.67    2.27         7.39             0.0     0.0"
      ]
     },
     "execution_count": 43,
     "metadata": {},
     "output_type": "execute_result"
    }
   ],
   "source": [
    "tier2_cac_pb= cal_cac(count_touch_dict = tier2_count_pb, group = 'tier2',df = s_df)\n",
    "tier2_cac_pb"
   ]
  },
  {
   "cell_type": "code",
   "execution_count": 44,
   "metadata": {},
   "outputs": [
    {
     "data": {
      "text/html": [
       "<div>\n",
       "<style scoped>\n",
       "    .dataframe tbody tr th:only-of-type {\n",
       "        vertical-align: middle;\n",
       "    }\n",
       "\n",
       "    .dataframe tbody tr th {\n",
       "        vertical-align: top;\n",
       "    }\n",
       "\n",
       "    .dataframe thead th {\n",
       "        text-align: right;\n",
       "    }\n",
       "</style>\n",
       "<table border=\"1\" class=\"dataframe\">\n",
       "  <thead>\n",
       "    <tr style=\"text-align: right;\">\n",
       "      <th></th>\n",
       "      <th>referral</th>\n",
       "      <th>email</th>\n",
       "      <th>display</th>\n",
       "      <th>paid_search</th>\n",
       "      <th>social</th>\n",
       "      <th>direct</th>\n",
       "      <th>organic_search</th>\n",
       "    </tr>\n",
       "  </thead>\n",
       "  <tbody>\n",
       "    <tr>\n",
       "      <th>0</th>\n",
       "      <td>0.96</td>\n",
       "      <td>4.87</td>\n",
       "      <td>3.42</td>\n",
       "      <td>8.11</td>\n",
       "      <td>2.83</td>\n",
       "      <td>0.0</td>\n",
       "      <td>0.0</td>\n",
       "    </tr>\n",
       "  </tbody>\n",
       "</table>\n",
       "</div>"
      ],
      "text/plain": [
       "   referral  email  display  paid_search  social  direct  organic_search\n",
       "0      0.96   4.87     3.42         8.11    2.83     0.0             0.0"
      ]
     },
     "execution_count": 44,
     "metadata": {},
     "output_type": "execute_result"
    }
   ],
   "source": [
    "tier3_cac_pb= cal_cac(count_touch_dict = tier3_count_pb, group = 'tier3',df = s_df)\n",
    "tier3_cac_pb"
   ]
  },
  {
   "cell_type": "code",
   "execution_count": 45,
   "metadata": {},
   "outputs": [
    {
     "data": {
      "text/html": [
       "<div>\n",
       "<style scoped>\n",
       "    .dataframe tbody tr th:only-of-type {\n",
       "        vertical-align: middle;\n",
       "    }\n",
       "\n",
       "    .dataframe tbody tr th {\n",
       "        vertical-align: top;\n",
       "    }\n",
       "\n",
       "    .dataframe thead th {\n",
       "        text-align: right;\n",
       "    }\n",
       "</style>\n",
       "<table border=\"1\" class=\"dataframe\">\n",
       "  <thead>\n",
       "    <tr style=\"text-align: right;\">\n",
       "      <th></th>\n",
       "      <th></th>\n",
       "      <th>email</th>\n",
       "      <th>referral</th>\n",
       "      <th>social</th>\n",
       "      <th>display</th>\n",
       "      <th>paid_search</th>\n",
       "      <th>direct</th>\n",
       "      <th>organic_search</th>\n",
       "    </tr>\n",
       "  </thead>\n",
       "  <tbody>\n",
       "    <tr>\n",
       "      <th>tier1</th>\n",
       "      <th>0</th>\n",
       "      <td>3.87</td>\n",
       "      <td>0.70</td>\n",
       "      <td>1.95</td>\n",
       "      <td>2.05</td>\n",
       "      <td>7.07</td>\n",
       "      <td>0.0</td>\n",
       "      <td>0.0</td>\n",
       "    </tr>\n",
       "    <tr>\n",
       "      <th>tier2</th>\n",
       "      <th>0</th>\n",
       "      <td>4.43</td>\n",
       "      <td>0.79</td>\n",
       "      <td>2.27</td>\n",
       "      <td>2.67</td>\n",
       "      <td>7.39</td>\n",
       "      <td>0.0</td>\n",
       "      <td>0.0</td>\n",
       "    </tr>\n",
       "    <tr>\n",
       "      <th>tier3</th>\n",
       "      <th>0</th>\n",
       "      <td>4.87</td>\n",
       "      <td>0.96</td>\n",
       "      <td>2.83</td>\n",
       "      <td>3.42</td>\n",
       "      <td>8.11</td>\n",
       "      <td>0.0</td>\n",
       "      <td>0.0</td>\n",
       "    </tr>\n",
       "  </tbody>\n",
       "</table>\n",
       "</div>"
      ],
      "text/plain": [
       "         email  referral  social  display  paid_search  direct  organic_search\n",
       "tier1 0   3.87      0.70    1.95     2.05         7.07     0.0             0.0\n",
       "tier2 0   4.43      0.79    2.27     2.67         7.39     0.0             0.0\n",
       "tier3 0   4.87      0.96    2.83     3.42         8.11     0.0             0.0"
      ]
     },
     "execution_count": 45,
     "metadata": {},
     "output_type": "execute_result"
    }
   ],
   "source": [
    "frames_pb = [tier1_cac_pb, tier2_cac_pb, tier3_cac_pb]\n",
    "last_result_pb = pd.concat(frames_pb, keys=['tier1', 'tier2', 'tier3'])\n",
    "last_result_pb"
   ]
  },
  {
   "cell_type": "markdown",
   "metadata": {},
   "source": [
    "## 1.2 Calculate average CAC for each of the channels"
   ]
  },
  {
   "cell_type": "code",
   "execution_count": 46,
   "metadata": {},
   "outputs": [
    {
     "data": {
      "text/html": [
       "<div>\n",
       "<style scoped>\n",
       "    .dataframe tbody tr th:only-of-type {\n",
       "        vertical-align: middle;\n",
       "    }\n",
       "\n",
       "    .dataframe tbody tr th {\n",
       "        vertical-align: top;\n",
       "    }\n",
       "\n",
       "    .dataframe thead th {\n",
       "        text-align: right;\n",
       "    }\n",
       "</style>\n",
       "<table border=\"1\" class=\"dataframe\">\n",
       "  <thead>\n",
       "    <tr style=\"text-align: right;\">\n",
       "      <th></th>\n",
       "      <th></th>\n",
       "      <th>referral</th>\n",
       "      <th>email</th>\n",
       "      <th>social</th>\n",
       "      <th>display</th>\n",
       "      <th>paid_search</th>\n",
       "      <th>organic_search</th>\n",
       "      <th>direct</th>\n",
       "    </tr>\n",
       "  </thead>\n",
       "  <tbody>\n",
       "    <tr>\n",
       "      <th>tier1</th>\n",
       "      <th>0</th>\n",
       "      <td>0.84</td>\n",
       "      <td>3.34</td>\n",
       "      <td>1.61</td>\n",
       "      <td>1.88</td>\n",
       "      <td>5.56</td>\n",
       "      <td>0.0</td>\n",
       "      <td>0.0</td>\n",
       "    </tr>\n",
       "    <tr>\n",
       "      <th>tier2</th>\n",
       "      <th>0</th>\n",
       "      <td>0.94</td>\n",
       "      <td>3.76</td>\n",
       "      <td>1.87</td>\n",
       "      <td>2.43</td>\n",
       "      <td>5.88</td>\n",
       "      <td>0.0</td>\n",
       "      <td>NaN</td>\n",
       "    </tr>\n",
       "    <tr>\n",
       "      <th>tier3</th>\n",
       "      <th>0</th>\n",
       "      <td>1.12</td>\n",
       "      <td>4.37</td>\n",
       "      <td>2.39</td>\n",
       "      <td>3.13</td>\n",
       "      <td>6.20</td>\n",
       "      <td>0.0</td>\n",
       "      <td>0.0</td>\n",
       "    </tr>\n",
       "  </tbody>\n",
       "</table>\n",
       "</div>"
      ],
      "text/plain": [
       "         referral  email  social  display  paid_search  organic_search  direct\n",
       "tier1 0      0.84   3.34    1.61     1.88         5.56             0.0     0.0\n",
       "tier2 0      0.94   3.76    1.87     2.43         5.88             0.0     NaN\n",
       "tier3 0      1.12   4.37    2.39     3.13         6.20             0.0     0.0"
      ]
     },
     "execution_count": 46,
     "metadata": {},
     "output_type": "execute_result"
    }
   ],
   "source": [
    "# average CAC table for last interaction method\n",
    "last_result"
   ]
  },
  {
   "cell_type": "code",
   "execution_count": 47,
   "metadata": {},
   "outputs": [
    {
     "name": "stderr",
     "output_type": "stream",
     "text": [
      "<ipython-input-47-e5792306efb5>:3: SettingWithCopyWarning: \n",
      "A value is trying to be set on a copy of a slice from a DataFrame.\n",
      "Try using .loc[row_indexer,col_indexer] = value instead\n",
      "\n",
      "See the caveats in the documentation: https://pandas.pydata.org/pandas-docs/stable/user_guide/indexing.html#returning-a-view-versus-a-copy\n",
      "  last['method'] = ['last', 'last','last']\n"
     ]
    }
   ],
   "source": [
    "cols = list(last_result_lm.columns.values)\n",
    "last=last_result[cols]\n",
    "last['method'] = ['last', 'last','last']"
   ]
  },
  {
   "cell_type": "code",
   "execution_count": 48,
   "metadata": {},
   "outputs": [],
   "source": [
    "# average CAC table for linear model method\n",
    "last_result_lm['method'] = ['linear', 'linear','linear']"
   ]
  },
  {
   "cell_type": "code",
   "execution_count": 49,
   "metadata": {},
   "outputs": [],
   "source": [
    "# average CAC table for position based method\n",
    "last_result_pb['method'] = ['position','postion','postion']"
   ]
  },
  {
   "cell_type": "code",
   "execution_count": 50,
   "metadata": {},
   "outputs": [
    {
     "data": {
      "text/html": [
       "<div>\n",
       "<style scoped>\n",
       "    .dataframe tbody tr th:only-of-type {\n",
       "        vertical-align: middle;\n",
       "    }\n",
       "\n",
       "    .dataframe tbody tr th {\n",
       "        vertical-align: top;\n",
       "    }\n",
       "\n",
       "    .dataframe thead th {\n",
       "        text-align: right;\n",
       "    }\n",
       "</style>\n",
       "<table border=\"1\" class=\"dataframe\">\n",
       "  <thead>\n",
       "    <tr style=\"text-align: right;\">\n",
       "      <th></th>\n",
       "      <th></th>\n",
       "      <th>email</th>\n",
       "      <th>referral</th>\n",
       "      <th>social</th>\n",
       "      <th>display</th>\n",
       "      <th>paid_search</th>\n",
       "      <th>direct</th>\n",
       "      <th>organic_search</th>\n",
       "      <th>method</th>\n",
       "    </tr>\n",
       "  </thead>\n",
       "  <tbody>\n",
       "    <tr>\n",
       "      <th>tier1</th>\n",
       "      <th>0</th>\n",
       "      <td>3.34</td>\n",
       "      <td>0.84</td>\n",
       "      <td>1.61</td>\n",
       "      <td>1.88</td>\n",
       "      <td>5.56</td>\n",
       "      <td>0.0</td>\n",
       "      <td>0.0</td>\n",
       "      <td>last</td>\n",
       "    </tr>\n",
       "    <tr>\n",
       "      <th>tier2</th>\n",
       "      <th>0</th>\n",
       "      <td>3.76</td>\n",
       "      <td>0.94</td>\n",
       "      <td>1.87</td>\n",
       "      <td>2.43</td>\n",
       "      <td>5.88</td>\n",
       "      <td>NaN</td>\n",
       "      <td>0.0</td>\n",
       "      <td>last</td>\n",
       "    </tr>\n",
       "    <tr>\n",
       "      <th>tier3</th>\n",
       "      <th>0</th>\n",
       "      <td>4.37</td>\n",
       "      <td>1.12</td>\n",
       "      <td>2.39</td>\n",
       "      <td>3.13</td>\n",
       "      <td>6.20</td>\n",
       "      <td>0.0</td>\n",
       "      <td>0.0</td>\n",
       "      <td>last</td>\n",
       "    </tr>\n",
       "    <tr>\n",
       "      <th>tier1</th>\n",
       "      <th>0</th>\n",
       "      <td>4.10</td>\n",
       "      <td>0.67</td>\n",
       "      <td>2.09</td>\n",
       "      <td>2.14</td>\n",
       "      <td>7.86</td>\n",
       "      <td>0.0</td>\n",
       "      <td>0.0</td>\n",
       "      <td>linear</td>\n",
       "    </tr>\n",
       "    <tr>\n",
       "      <th>tier2</th>\n",
       "      <th>0</th>\n",
       "      <td>4.77</td>\n",
       "      <td>0.75</td>\n",
       "      <td>2.43</td>\n",
       "      <td>2.80</td>\n",
       "      <td>8.11</td>\n",
       "      <td>0.0</td>\n",
       "      <td>0.0</td>\n",
       "      <td>linear</td>\n",
       "    </tr>\n",
       "    <tr>\n",
       "      <th>tier3</th>\n",
       "      <th>0</th>\n",
       "      <td>5.04</td>\n",
       "      <td>0.91</td>\n",
       "      <td>3.04</td>\n",
       "      <td>3.53</td>\n",
       "      <td>8.98</td>\n",
       "      <td>0.0</td>\n",
       "      <td>0.0</td>\n",
       "      <td>linear</td>\n",
       "    </tr>\n",
       "    <tr>\n",
       "      <th>tier1</th>\n",
       "      <th>0</th>\n",
       "      <td>3.87</td>\n",
       "      <td>0.70</td>\n",
       "      <td>1.95</td>\n",
       "      <td>2.05</td>\n",
       "      <td>7.07</td>\n",
       "      <td>0.0</td>\n",
       "      <td>0.0</td>\n",
       "      <td>position</td>\n",
       "    </tr>\n",
       "    <tr>\n",
       "      <th>tier2</th>\n",
       "      <th>0</th>\n",
       "      <td>4.43</td>\n",
       "      <td>0.79</td>\n",
       "      <td>2.27</td>\n",
       "      <td>2.67</td>\n",
       "      <td>7.39</td>\n",
       "      <td>0.0</td>\n",
       "      <td>0.0</td>\n",
       "      <td>postion</td>\n",
       "    </tr>\n",
       "    <tr>\n",
       "      <th>tier3</th>\n",
       "      <th>0</th>\n",
       "      <td>4.87</td>\n",
       "      <td>0.96</td>\n",
       "      <td>2.83</td>\n",
       "      <td>3.42</td>\n",
       "      <td>8.11</td>\n",
       "      <td>0.0</td>\n",
       "      <td>0.0</td>\n",
       "      <td>postion</td>\n",
       "    </tr>\n",
       "  </tbody>\n",
       "</table>\n",
       "</div>"
      ],
      "text/plain": [
       "         email  referral  social  display  paid_search  direct  \\\n",
       "tier1 0   3.34      0.84    1.61     1.88         5.56     0.0   \n",
       "tier2 0   3.76      0.94    1.87     2.43         5.88     NaN   \n",
       "tier3 0   4.37      1.12    2.39     3.13         6.20     0.0   \n",
       "tier1 0   4.10      0.67    2.09     2.14         7.86     0.0   \n",
       "tier2 0   4.77      0.75    2.43     2.80         8.11     0.0   \n",
       "tier3 0   5.04      0.91    3.04     3.53         8.98     0.0   \n",
       "tier1 0   3.87      0.70    1.95     2.05         7.07     0.0   \n",
       "tier2 0   4.43      0.79    2.27     2.67         7.39     0.0   \n",
       "tier3 0   4.87      0.96    2.83     3.42         8.11     0.0   \n",
       "\n",
       "         organic_search    method  \n",
       "tier1 0             0.0      last  \n",
       "tier2 0             0.0      last  \n",
       "tier3 0             0.0      last  \n",
       "tier1 0             0.0    linear  \n",
       "tier2 0             0.0    linear  \n",
       "tier3 0             0.0    linear  \n",
       "tier1 0             0.0  position  \n",
       "tier2 0             0.0   postion  \n",
       "tier3 0             0.0   postion  "
      ]
     },
     "execution_count": 50,
     "metadata": {},
     "output_type": "execute_result"
    }
   ],
   "source": [
    "avg_cac_df = last.append(last_result_lm)\n",
    "avg_cac_df = avg_cac_df.append(last_result_pb)\n",
    "avg_cac_df"
   ]
  },
  {
   "attachments": {
    "802f116c-72e7-444e-ac2d-6237dc081b0b.png": {
     "image/png": "[encoded data removed]"
    }
   },
   "cell_type": "markdown",
   "metadata": {},
   "source": [
    "![image.png](attachment:802f116c-72e7-444e-ac2d-6237dc081b0b.png)"
   ]
  },
  {
   "cell_type": "markdown",
   "metadata": {},
   "source": [
    "## 1.3 Conclusion\n",
    "1. In a holistic view, the average CAC for each channel rises as each tier's expense increases.\n",
    "2. Within each tier, the last interaction method has the lowest CAC in all channels except referral.\n",
    "3. Within each tier, the linear model generates the highest CAC for each channel except referral.\n",
    "4. Last interaction is the optimal choice when the corporation aims to minimize the costs.\n"
   ]
  },
  {
   "cell_type": "markdown",
   "metadata": {},
   "source": [
    "# 2 allocaiton"
   ]
  },
  {
   "cell_type": "markdown",
   "metadata": {},
   "source": [
    "## 2.1 New conclusions\n",
    "1. The marginal CAC for the last interaction keeps increasing.\n",
    "2. However, the marginal number of reached customers has a diminishing return as total expense increases by each layer.\n",
    "3. The next 1000 dollars may not be as valuable as the previous one within each channel.\n",
    "4. Some customers are easy to reach out to, but others may not.\n",
    "5. Finally, a considerable expense may obtain a tiny group of customers or, even worse, no customers."
   ]
  },
  {
   "cell_type": "markdown",
   "metadata": {},
   "source": [
    "## 2.2 Choose one \n",
    "\n",
    "Choose one of the allocation methods and determine how you would spend an ad budget of $11,000 for next week in one target market."
   ]
  },
  {
   "cell_type": "code",
   "execution_count": 51,
   "metadata": {},
   "outputs": [],
   "source": [
    "# Here, we choose last interaciton method \n",
    "mdf  =  last.copy()"
   ]
  },
  {
   "cell_type": "code",
   "execution_count": 52,
   "metadata": {},
   "outputs": [
    {
     "data": {
      "text/plain": [
       "['referral',\n",
       " 'email',\n",
       " 'social',\n",
       " 'display',\n",
       " 'paid_search',\n",
       " 'organic_search',\n",
       " 'direct']"
      ]
     },
     "execution_count": 52,
     "metadata": {},
     "output_type": "execute_result"
    }
   ],
   "source": [
    "count1 = pd.DataFrame([tier1_count])\n",
    "count2 = pd.DataFrame([tier2_count])\n",
    "count3 = pd.DataFrame([tier3_count])\n",
    "frames_count = [count1, count2, count3]\n",
    "count_df = pd.concat(frames_count, keys=['tier1', 'tier2', 'tier3'])\n",
    "col_names = count_df.columns.values.tolist()\n",
    "col_names"
   ]
  },
  {
   "cell_type": "code",
   "execution_count": 53,
   "metadata": {},
   "outputs": [
    {
     "data": {
      "text/html": [
       "<div>\n",
       "<style scoped>\n",
       "    .dataframe tbody tr th:only-of-type {\n",
       "        vertical-align: middle;\n",
       "    }\n",
       "\n",
       "    .dataframe tbody tr th {\n",
       "        vertical-align: top;\n",
       "    }\n",
       "\n",
       "    .dataframe thead th {\n",
       "        text-align: right;\n",
       "    }\n",
       "</style>\n",
       "<table border=\"1\" class=\"dataframe\">\n",
       "  <thead>\n",
       "    <tr style=\"text-align: right;\">\n",
       "      <th></th>\n",
       "      <th></th>\n",
       "      <th>referral</th>\n",
       "      <th>email</th>\n",
       "      <th>social</th>\n",
       "      <th>display</th>\n",
       "      <th>paid_search</th>\n",
       "    </tr>\n",
       "  </thead>\n",
       "  <tbody>\n",
       "    <tr>\n",
       "      <th>tier1</th>\n",
       "      <th>0</th>\n",
       "      <td>1187</td>\n",
       "      <td>299</td>\n",
       "      <td>622</td>\n",
       "      <td>531</td>\n",
       "      <td>180</td>\n",
       "    </tr>\n",
       "    <tr>\n",
       "      <th>tier2</th>\n",
       "      <th>0</th>\n",
       "      <td>2124</td>\n",
       "      <td>532</td>\n",
       "      <td>1069</td>\n",
       "      <td>824</td>\n",
       "      <td>340</td>\n",
       "    </tr>\n",
       "    <tr>\n",
       "      <th>tier3</th>\n",
       "      <th>0</th>\n",
       "      <td>2670</td>\n",
       "      <td>686</td>\n",
       "      <td>1256</td>\n",
       "      <td>959</td>\n",
       "      <td>484</td>\n",
       "    </tr>\n",
       "  </tbody>\n",
       "</table>\n",
       "</div>"
      ],
      "text/plain": [
       "         referral  email  social  display  paid_search\n",
       "tier1 0      1187    299     622      531          180\n",
       "tier2 0      2124    532    1069      824          340\n",
       "tier3 0      2670    686    1256      959          484"
      ]
     },
     "execution_count": 53,
     "metadata": {},
     "output_type": "execute_result"
    }
   ],
   "source": [
    "count_df.drop(columns = ['organic_search','direct'], inplace = True)\n",
    "count_df"
   ]
  },
  {
   "cell_type": "code",
   "execution_count": 54,
   "metadata": {},
   "outputs": [
    {
     "data": {
      "text/html": [
       "<div>\n",
       "<style scoped>\n",
       "    .dataframe tbody tr th:only-of-type {\n",
       "        vertical-align: middle;\n",
       "    }\n",
       "\n",
       "    .dataframe tbody tr th {\n",
       "        vertical-align: top;\n",
       "    }\n",
       "\n",
       "    .dataframe thead th {\n",
       "        text-align: right;\n",
       "    }\n",
       "</style>\n",
       "<table border=\"1\" class=\"dataframe\">\n",
       "  <thead>\n",
       "    <tr style=\"text-align: right;\">\n",
       "      <th></th>\n",
       "      <th></th>\n",
       "      <th>referral</th>\n",
       "      <th>email</th>\n",
       "      <th>social</th>\n",
       "      <th>display</th>\n",
       "      <th>paid_search</th>\n",
       "    </tr>\n",
       "  </thead>\n",
       "  <tbody>\n",
       "    <tr>\n",
       "      <th>tier1</th>\n",
       "      <th>0</th>\n",
       "      <td>NaN</td>\n",
       "      <td>NaN</td>\n",
       "      <td>NaN</td>\n",
       "      <td>NaN</td>\n",
       "      <td>NaN</td>\n",
       "    </tr>\n",
       "    <tr>\n",
       "      <th>tier2</th>\n",
       "      <th>0</th>\n",
       "      <td>937.0</td>\n",
       "      <td>233.0</td>\n",
       "      <td>447.0</td>\n",
       "      <td>293.0</td>\n",
       "      <td>160.0</td>\n",
       "    </tr>\n",
       "    <tr>\n",
       "      <th>tier3</th>\n",
       "      <th>0</th>\n",
       "      <td>546.0</td>\n",
       "      <td>154.0</td>\n",
       "      <td>187.0</td>\n",
       "      <td>135.0</td>\n",
       "      <td>144.0</td>\n",
       "    </tr>\n",
       "  </tbody>\n",
       "</table>\n",
       "</div>"
      ],
      "text/plain": [
       "         referral  email  social  display  paid_search\n",
       "tier1 0       NaN    NaN     NaN      NaN          NaN\n",
       "tier2 0     937.0  233.0   447.0    293.0        160.0\n",
       "tier3 0     546.0  154.0   187.0    135.0        144.0"
      ]
     },
     "execution_count": 54,
     "metadata": {},
     "output_type": "execute_result"
    }
   ],
   "source": [
    "diff_count = count_df.diff()\n",
    "diff_count"
   ]
  },
  {
   "cell_type": "code",
   "execution_count": 55,
   "metadata": {},
   "outputs": [],
   "source": [
    "marginal_count = count_df.iloc[[0]].append(diff_count.iloc[1:3])\n",
    "marginal_count['marginal spend'] = [1000, 1000, 1000]"
   ]
  },
  {
   "cell_type": "code",
   "execution_count": 56,
   "metadata": {},
   "outputs": [
    {
     "data": {
      "text/html": [
       "<div>\n",
       "<style scoped>\n",
       "    .dataframe tbody tr th:only-of-type {\n",
       "        vertical-align: middle;\n",
       "    }\n",
       "\n",
       "    .dataframe tbody tr th {\n",
       "        vertical-align: top;\n",
       "    }\n",
       "\n",
       "    .dataframe thead th {\n",
       "        text-align: right;\n",
       "    }\n",
       "</style>\n",
       "<table border=\"1\" class=\"dataframe\">\n",
       "  <thead>\n",
       "    <tr style=\"text-align: right;\">\n",
       "      <th></th>\n",
       "      <th></th>\n",
       "      <th>referral</th>\n",
       "      <th>email</th>\n",
       "      <th>social</th>\n",
       "      <th>display</th>\n",
       "      <th>paid_search</th>\n",
       "      <th>marginal spend</th>\n",
       "    </tr>\n",
       "  </thead>\n",
       "  <tbody>\n",
       "    <tr>\n",
       "      <th>tier1</th>\n",
       "      <th>0</th>\n",
       "      <td>1187.0</td>\n",
       "      <td>299.0</td>\n",
       "      <td>622.0</td>\n",
       "      <td>531.0</td>\n",
       "      <td>180.0</td>\n",
       "      <td>1000</td>\n",
       "    </tr>\n",
       "    <tr>\n",
       "      <th>tier2</th>\n",
       "      <th>0</th>\n",
       "      <td>937.0</td>\n",
       "      <td>233.0</td>\n",
       "      <td>447.0</td>\n",
       "      <td>293.0</td>\n",
       "      <td>160.0</td>\n",
       "      <td>1000</td>\n",
       "    </tr>\n",
       "    <tr>\n",
       "      <th>tier3</th>\n",
       "      <th>0</th>\n",
       "      <td>546.0</td>\n",
       "      <td>154.0</td>\n",
       "      <td>187.0</td>\n",
       "      <td>135.0</td>\n",
       "      <td>144.0</td>\n",
       "      <td>1000</td>\n",
       "    </tr>\n",
       "  </tbody>\n",
       "</table>\n",
       "</div>"
      ],
      "text/plain": [
       "         referral  email  social  display  paid_search  marginal spend\n",
       "tier1 0    1187.0  299.0   622.0    531.0        180.0            1000\n",
       "tier2 0     937.0  233.0   447.0    293.0        160.0            1000\n",
       "tier3 0     546.0  154.0   187.0    135.0        144.0            1000"
      ]
     },
     "execution_count": 56,
     "metadata": {},
     "output_type": "execute_result"
    }
   ],
   "source": [
    "marginal_count"
   ]
  },
  {
   "cell_type": "code",
   "execution_count": 57,
   "metadata": {},
   "outputs": [],
   "source": [
    "names = marginal_count.columns.tolist()\n",
    "marginal_cac_names = ['referral_mc', 'email_mc', 'social_mc', 'display_mc', 'paid_search_mc']"
   ]
  },
  {
   "cell_type": "code",
   "execution_count": 58,
   "metadata": {},
   "outputs": [
    {
     "data": {
      "text/html": [
       "<div>\n",
       "<style scoped>\n",
       "    .dataframe tbody tr th:only-of-type {\n",
       "        vertical-align: middle;\n",
       "    }\n",
       "\n",
       "    .dataframe tbody tr th {\n",
       "        vertical-align: top;\n",
       "    }\n",
       "\n",
       "    .dataframe thead th {\n",
       "        text-align: right;\n",
       "    }\n",
       "</style>\n",
       "<table border=\"1\" class=\"dataframe\">\n",
       "  <thead>\n",
       "    <tr style=\"text-align: right;\">\n",
       "      <th></th>\n",
       "      <th></th>\n",
       "      <th>referral</th>\n",
       "      <th>email</th>\n",
       "      <th>social</th>\n",
       "      <th>display</th>\n",
       "      <th>paid_search</th>\n",
       "    </tr>\n",
       "  </thead>\n",
       "  <tbody>\n",
       "    <tr>\n",
       "      <th>tier1</th>\n",
       "      <th>0</th>\n",
       "      <td>0.84</td>\n",
       "      <td>3.34</td>\n",
       "      <td>1.61</td>\n",
       "      <td>1.88</td>\n",
       "      <td>5.56</td>\n",
       "    </tr>\n",
       "    <tr>\n",
       "      <th>tier2</th>\n",
       "      <th>0</th>\n",
       "      <td>1.07</td>\n",
       "      <td>4.29</td>\n",
       "      <td>2.24</td>\n",
       "      <td>3.41</td>\n",
       "      <td>6.25</td>\n",
       "    </tr>\n",
       "    <tr>\n",
       "      <th>tier3</th>\n",
       "      <th>0</th>\n",
       "      <td>1.83</td>\n",
       "      <td>6.49</td>\n",
       "      <td>5.35</td>\n",
       "      <td>7.41</td>\n",
       "      <td>6.94</td>\n",
       "    </tr>\n",
       "  </tbody>\n",
       "</table>\n",
       "</div>"
      ],
      "text/plain": [
       "         referral  email  social  display  paid_search\n",
       "tier1 0      0.84   3.34    1.61     1.88         5.56\n",
       "tier2 0      1.07   4.29    2.24     3.41         6.25\n",
       "tier3 0      1.83   6.49    5.35     7.41         6.94"
      ]
     },
     "execution_count": 58,
     "metadata": {},
     "output_type": "execute_result"
    }
   ],
   "source": [
    "def marginal_cac(df):\n",
    "    my_dict = {}\n",
    "    cols = df.columns.tolist()\n",
    "    for i in range(5):\n",
    "            lst = []\n",
    "            for x in range(3):\n",
    "                lst.append(round(1000/df.iloc[x,i], 2))\n",
    "            my_dict[cols[i]] = lst\n",
    "    return pd.DataFrame(my_dict, index = marginal_count.index)\n",
    "marginal_cac = marginal_cac(marginal_count)  \n",
    "marginal_cac"
   ]
  },
  {
   "cell_type": "code",
   "execution_count": 59,
   "metadata": {},
   "outputs": [],
   "source": [
    "marginal_cac = marginal_cac.rename(columns = {'referral': 'referral_mc', 'email':'email_mc', 'social':'social_mc','display':'display_mc','paid_search':'paid_search_mc'})"
   ]
  },
  {
   "cell_type": "code",
   "execution_count": 60,
   "metadata": {},
   "outputs": [
    {
     "data": {
      "text/html": [
       "<div>\n",
       "<style scoped>\n",
       "    .dataframe tbody tr th:only-of-type {\n",
       "        vertical-align: middle;\n",
       "    }\n",
       "\n",
       "    .dataframe tbody tr th {\n",
       "        vertical-align: top;\n",
       "    }\n",
       "\n",
       "    .dataframe thead th {\n",
       "        text-align: right;\n",
       "    }\n",
       "</style>\n",
       "<table border=\"1\" class=\"dataframe\">\n",
       "  <thead>\n",
       "    <tr style=\"text-align: right;\">\n",
       "      <th></th>\n",
       "      <th></th>\n",
       "      <th>referral_mc</th>\n",
       "      <th>email_mc</th>\n",
       "      <th>social_mc</th>\n",
       "      <th>display_mc</th>\n",
       "      <th>paid_search_mc</th>\n",
       "    </tr>\n",
       "  </thead>\n",
       "  <tbody>\n",
       "    <tr>\n",
       "      <th>tier1</th>\n",
       "      <th>0</th>\n",
       "      <td>0.84</td>\n",
       "      <td>3.34</td>\n",
       "      <td>1.61</td>\n",
       "      <td>1.88</td>\n",
       "      <td>5.56</td>\n",
       "    </tr>\n",
       "    <tr>\n",
       "      <th>tier2</th>\n",
       "      <th>0</th>\n",
       "      <td>1.07</td>\n",
       "      <td>4.29</td>\n",
       "      <td>2.24</td>\n",
       "      <td>3.41</td>\n",
       "      <td>6.25</td>\n",
       "    </tr>\n",
       "    <tr>\n",
       "      <th>tier3</th>\n",
       "      <th>0</th>\n",
       "      <td>1.83</td>\n",
       "      <td>6.49</td>\n",
       "      <td>5.35</td>\n",
       "      <td>7.41</td>\n",
       "      <td>6.94</td>\n",
       "    </tr>\n",
       "  </tbody>\n",
       "</table>\n",
       "</div>"
      ],
      "text/plain": [
       "         referral_mc  email_mc  social_mc  display_mc  paid_search_mc\n",
       "tier1 0         0.84      3.34       1.61        1.88            5.56\n",
       "tier2 0         1.07      4.29       2.24        3.41            6.25\n",
       "tier3 0         1.83      6.49       5.35        7.41            6.94"
      ]
     },
     "execution_count": 60,
     "metadata": {},
     "output_type": "execute_result"
    }
   ],
   "source": [
    "marginal_cac"
   ]
  },
  {
   "cell_type": "code",
   "execution_count": 61,
   "metadata": {},
   "outputs": [
    {
     "data": {
      "text/html": [
       "<div>\n",
       "<style scoped>\n",
       "    .dataframe tbody tr th:only-of-type {\n",
       "        vertical-align: middle;\n",
       "    }\n",
       "\n",
       "    .dataframe tbody tr th {\n",
       "        vertical-align: top;\n",
       "    }\n",
       "\n",
       "    .dataframe thead th {\n",
       "        text-align: right;\n",
       "    }\n",
       "</style>\n",
       "<table border=\"1\" class=\"dataframe\">\n",
       "  <thead>\n",
       "    <tr style=\"text-align: right;\">\n",
       "      <th></th>\n",
       "      <th></th>\n",
       "      <th>referral</th>\n",
       "      <th>email</th>\n",
       "      <th>social</th>\n",
       "      <th>display</th>\n",
       "      <th>paid_search</th>\n",
       "      <th>marginal spend</th>\n",
       "    </tr>\n",
       "  </thead>\n",
       "  <tbody>\n",
       "    <tr>\n",
       "      <th>tier1</th>\n",
       "      <th>0</th>\n",
       "      <td>1187.0</td>\n",
       "      <td>299.0</td>\n",
       "      <td>622.0</td>\n",
       "      <td>531.0</td>\n",
       "      <td>180.0</td>\n",
       "      <td>1000</td>\n",
       "    </tr>\n",
       "    <tr>\n",
       "      <th>tier2</th>\n",
       "      <th>0</th>\n",
       "      <td>937.0</td>\n",
       "      <td>233.0</td>\n",
       "      <td>447.0</td>\n",
       "      <td>293.0</td>\n",
       "      <td>160.0</td>\n",
       "      <td>1000</td>\n",
       "    </tr>\n",
       "    <tr>\n",
       "      <th>tier3</th>\n",
       "      <th>0</th>\n",
       "      <td>546.0</td>\n",
       "      <td>154.0</td>\n",
       "      <td>187.0</td>\n",
       "      <td>135.0</td>\n",
       "      <td>144.0</td>\n",
       "      <td>1000</td>\n",
       "    </tr>\n",
       "  </tbody>\n",
       "</table>\n",
       "</div>"
      ],
      "text/plain": [
       "         referral  email  social  display  paid_search  marginal spend\n",
       "tier1 0    1187.0  299.0   622.0    531.0        180.0            1000\n",
       "tier2 0     937.0  233.0   447.0    293.0        160.0            1000\n",
       "tier3 0     546.0  154.0   187.0    135.0        144.0            1000"
      ]
     },
     "execution_count": 61,
     "metadata": {},
     "output_type": "execute_result"
    }
   ],
   "source": [
    "marginal_count"
   ]
  },
  {
   "attachments": {
    "825551ff-7b76-4e8f-929f-67021ca043a8.png": {
     "image/png": "[encoded data removed]"
    }
   },
   "cell_type": "markdown",
   "metadata": {},
   "source": [
    "![image.png](attachment:825551ff-7b76-4e8f-929f-67021ca043a8.png)"
   ]
  },
  {
   "attachments": {
    "31dff008-3244-4895-befd-e5614a15fe47.png": {
     "image/png": "[encoded data removed]"
    }
   },
   "cell_type": "markdown",
   "metadata": {},
   "source": [
    "![image.png](attachment:31dff008-3244-4895-befd-e5614a15fe47.png)"
   ]
  }
 ],
 "metadata": {
  "kernelspec": {
   "display_name": "Python 3",
   "language": "python",
   "name": "python3"
  },
  "language_info": {
   "codemirror_mode": {
    "name": "ipython",
    "version": 3
   },
   "file_extension": ".py",
   "mimetype": "text/x-python",
   "name": "python",
   "nbconvert_exporter": "python",
   "pygments_lexer": "ipython3",
   "version": "3.8.3"
  }
 },
 "nbformat": 4,
 "nbformat_minor": 4
}
