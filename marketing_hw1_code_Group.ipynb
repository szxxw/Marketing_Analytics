{
 "cells": [
  {
   "cell_type": "code",
   "execution_count": 20,
   "metadata": {},
   "outputs": [],
   "source": [
    "# loading packages\n",
    "import pandas as pd\n",
    "import numpy as np\n",
    "import scipy.stats as st\n",
    "import math"
   ]
  },
  {
   "cell_type": "code",
   "execution_count": 21,
   "metadata": {},
   "outputs": [],
   "source": [
    "# create constant varaiables\n",
    "DATA = 'AB_test_data.csv'"
   ]
  },
  {
   "cell_type": "code",
   "execution_count": 22,
   "metadata": {},
   "outputs": [
    {
     "data": {
      "text/html": [
       "<div>\n",
       "<style scoped>\n",
       "    .dataframe tbody tr th:only-of-type {\n",
       "        vertical-align: middle;\n",
       "    }\n",
       "\n",
       "    .dataframe tbody tr th {\n",
       "        vertical-align: top;\n",
       "    }\n",
       "\n",
       "    .dataframe thead th {\n",
       "        text-align: right;\n",
       "    }\n",
       "</style>\n",
       "<table border=\"1\" class=\"dataframe\">\n",
       "  <thead>\n",
       "    <tr style=\"text-align: right;\">\n",
       "      <th></th>\n",
       "      <th>purchase_TF</th>\n",
       "      <th>Variant</th>\n",
       "      <th>date</th>\n",
       "      <th>id</th>\n",
       "    </tr>\n",
       "  </thead>\n",
       "  <tbody>\n",
       "    <tr>\n",
       "      <th>0</th>\n",
       "      <td>False</td>\n",
       "      <td>A</td>\n",
       "      <td>2019-11-08</td>\n",
       "      <td>0x25b44a</td>\n",
       "    </tr>\n",
       "    <tr>\n",
       "      <th>1</th>\n",
       "      <td>False</td>\n",
       "      <td>B</td>\n",
       "      <td>2020-08-27</td>\n",
       "      <td>0x46271e</td>\n",
       "    </tr>\n",
       "    <tr>\n",
       "      <th>2</th>\n",
       "      <td>False</td>\n",
       "      <td>A</td>\n",
       "      <td>2020-06-11</td>\n",
       "      <td>0x80b8f1</td>\n",
       "    </tr>\n",
       "    <tr>\n",
       "      <th>3</th>\n",
       "      <td>False</td>\n",
       "      <td>B</td>\n",
       "      <td>2020-08-22</td>\n",
       "      <td>0x8d736d</td>\n",
       "    </tr>\n",
       "    <tr>\n",
       "      <th>4</th>\n",
       "      <td>False</td>\n",
       "      <td>A</td>\n",
       "      <td>2020-08-05</td>\n",
       "      <td>0x96c9c8</td>\n",
       "    </tr>\n",
       "  </tbody>\n",
       "</table>\n",
       "</div>"
      ],
      "text/plain": [
       "   purchase_TF Variant        date        id\n",
       "0        False       A  2019-11-08  0x25b44a\n",
       "1        False       B  2020-08-27  0x46271e\n",
       "2        False       A  2020-06-11  0x80b8f1\n",
       "3        False       B  2020-08-22  0x8d736d\n",
       "4        False       A  2020-08-05  0x96c9c8"
      ]
     },
     "execution_count": 22,
     "metadata": {},
     "output_type": "execute_result"
    }
   ],
   "source": [
    "# reading the csv file into a data frame\n",
    "df = pd.read_csv(DATA)\n",
    "df.head()"
   ]
  },
  {
   "cell_type": "code",
   "execution_count": 23,
   "metadata": {},
   "outputs": [
    {
     "name": "stdout",
     "output_type": "stream",
     "text": [
      "(130000, 4)\n",
      "purchase_TF    0\n",
      "Variant        0\n",
      "date           0\n",
      "id             0\n",
      "dtype: int64\n",
      "purchase_TF      bool\n",
      "Variant        object\n",
      "date           object\n",
      "id             object\n",
      "dtype: object\n"
     ]
    }
   ],
   "source": [
    "# checking basic infomation of the data frame\n",
    "print(df.shape)\n",
    "print(df.isnull().sum())\n",
    "print(df.dtypes)\n",
    "# conclusion: no missing values"
   ]
  },
  {
   "cell_type": "markdown",
   "metadata": {},
   "source": [
    "# Question1 A/B testing"
   ]
  },
  {
   "cell_type": "markdown",
   "metadata": {},
   "source": [
    "## 1. Define hypotheses:\n",
    "\n",
    "- Hypothesis:\n",
    "Implementing alternative B can improve the conversion rates over applying alternative A\n"
   ]
  },
  {
   "cell_type": "code",
   "execution_count": 24,
   "metadata": {},
   "outputs": [
    {
     "name": "stdout",
     "output_type": "stream",
     "text": [
      "(125000, 4)\n"
     ]
    }
   ],
   "source": [
    "# spliting the data frame by the values of variable Variant\n",
    "df_A = df[df['Variant'] == 'A']\n",
    "print(df_A.shape)"
   ]
  },
  {
   "cell_type": "code",
   "execution_count": 25,
   "metadata": {},
   "outputs": [
    {
     "name": "stdout",
     "output_type": "stream",
     "text": [
      "(5000, 4)\n",
      "130000\n"
     ]
    }
   ],
   "source": [
    "df_B = df[df['Variant'] == 'B']\n",
    "print(df_B.shape)\n",
    "size_B = df.shape[0]\n",
    "print(size_B)"
   ]
  },
  {
   "cell_type": "code",
   "execution_count": 26,
   "metadata": {},
   "outputs": [
    {
     "name": "stdout",
     "output_type": "stream",
     "text": [
      "The conversion rate is:0.149616\n",
      "The conversion rate is:0.1766\n"
     ]
    }
   ],
   "source": [
    "# Calculating the conversion rate of each group\n",
    "def cal_conversion_rate(my_df, target_variable):\n",
    "    \"\"\"\n",
    "    This function returns the conversion rate of a group\n",
    "    \n",
    "    \"\"\"\n",
    "    p = np.mean(my_df[target_variable].tolist())\n",
    "    print('The conversion rate is:'+ str(p))\n",
    "    return p\n",
    "                \n",
    "con_A =  float(cal_conversion_rate(df_A,'purchase_TF'))\n",
    "con_B = float(cal_conversion_rate(df_B, 'purchase_TF'))              \n",
    "            "
   ]
  },
  {
   "cell_type": "code",
   "execution_count": 27,
   "metadata": {},
   "outputs": [],
   "source": [
    "# Conducting the A/B testing \n",
    "\n",
    "def do_abtesting(pa, pb, b_size, confidence):\n",
    "    \"\"\"\n",
    "    pa: \n",
    "    pb:\n",
    "    b_size:\n",
    "    confidence: \n",
    "    \"\"\"\n",
    "    # calculating the Z-score of variant B\n",
    "    stv_b = math.sqrt(pa*(1-pa)/b_size)\n",
    "    z_b = (pb-pa)/stv_b\n",
    "    # comparing the z-score to the value of statistical significance at the level of a\n",
    "    # one-tailed test\n",
    "    z_confi = st.norm.ppf(confidence)\n",
    "    if z_b > z_confi:\n",
    "        print('z-score of variant b: %s > z-score of the confidence rate: %s' %(z_b, z_confi))\n",
    "        print()\n",
    "        print('We can reject null hypothesis given that confidence rate.' )\n",
    "        print()\n",
    "        print('Therefore, implementing alternative B can improve the conversion rates over applying alternative A.')\n",
    "    else:\n",
    "        print('z-score of variant b: %s < z-score of the confidence rate: %s' %(z_b, z_confi))\n",
    "        print()\n",
    "        print('We fail to reject null hypothesis given that confidence rate.')\n",
    "        print()\n",
    "        print('There is no evidence to support the claim that implementing alternative B can improve the conversion rates over applying alternative A.')\n",
    "       "
   ]
  },
  {
   "cell_type": "code",
   "execution_count": 28,
   "metadata": {},
   "outputs": [
    {
     "name": "stdout",
     "output_type": "stream",
     "text": [
      "z-score of variant b: 27.276047893577964 > z-score of the confidence rate: 1.6448536269514722\n",
      "\n",
      "We can reject null hypothesis given that confidence rate.\n",
      "\n",
      "Therefore, implementing alternative B can improve the conversion rates over applying alternative A.\n"
     ]
    }
   ],
   "source": [
    "# supposing we conduct the testing at the confidence level of 0.95\n",
    "do_abtesting(pa = con_A, pb = con_B, b_size = size_B, confidence = 0.95)"
   ]
  },
  {
   "cell_type": "markdown",
   "metadata": {},
   "source": [
    "# Question 2 \n",
    "\n",
    "## Q2-1 \n",
    "\n",
    "### Calculate the optimal sample size for a 95% confidence rate and test with 80% power."
   ]
  },
  {
   "cell_type": "code",
   "execution_count": 29,
   "metadata": {},
   "outputs": [
    {
     "name": "stdout",
     "output_type": "stream",
     "text": [
      "The conversion rate is:0.15065384615384617\n",
      "0.15065384615384617\n"
     ]
    }
   ],
   "source": [
    "# First, we calculate the average of the sample proportions\n",
    "con_avg = float(cal_conversion_rate(df,'purchase_TF'))\n",
    "print(con_avg)"
   ]
  },
  {
   "cell_type": "code",
   "execution_count": 30,
   "metadata": {},
   "outputs": [],
   "source": [
    "# In this case, we conduct a one-tailed test\n",
    "def optimal_sample_size(confidence, power, df, df_A, df_B, target_variable):\n",
    "    # get the mean\n",
    "    x1 = cal_conversion_rate(df_A, target_variable)\n",
    "    x2 = cal_conversion_rate(df_B, target_variable)\n",
    "    x = cal_conversion_rate(df, target_variable)\n",
    "    # get the variance \n",
    "    var1 = np.var(df_A[target_variable].tolist())\n",
    "    var2 = np.var(df_B[target_variable].tolist())\n",
    "    # calculate the size of sample\n",
    "    size_1 = df_A.shape[0] \n",
    "    size_2 = df_B.shape[0]\n",
    "    # calculate the value of minimum detectable effect\n",
    "    mde = st.norm.ppf(power) * math.sqrt(var1/size_1 + var2/size_2) + (x1 - x2)\n",
    "    # get the value of optimal sample size \n",
    "    n = (st.norm.ppf(confidence) * math.sqrt(2*x*(1-x)) + st.norm.ppf(power) * math.sqrt(x1*(1-x1)+x2*(1-x2)))**2/(mde **2)\n",
    "    print('The optimal sample size is: %s' % n)\n",
    "    return n"
   ]
  },
  {
   "cell_type": "code",
   "execution_count": 31,
   "metadata": {},
   "outputs": [
    {
     "name": "stdout",
     "output_type": "stream",
     "text": [
      "The conversion rate is:0.149616\n",
      "The conversion rate is:0.1766\n",
      "The conversion rate is:0.15065384615384617\n",
      "The optimal sample size is: 3231.9989950223085\n"
     ]
    }
   ],
   "source": [
    "my_n = optimal_sample_size(confidence = 0.95, power = 0.8, df = df, df_A = df_A, df_B = df_B, target_variable = 'purchase_TF')"
   ]
  },
  {
   "cell_type": "markdown",
   "metadata": {},
   "source": [
    "## Q2-2\n",
    "### Conduct the test 10 times using the samples of the optimal size. Report results."
   ]
  },
  {
   "cell_type": "code",
   "execution_count": 32,
   "metadata": {},
   "outputs": [],
   "source": [
    "# now we get the optimal size is n, we round it to the ceil of it\n",
    "\n",
    "op_n = math.ceil(my_n)\n",
    "from random import sample\n",
    "# creating a function to conduct the test 10 times using samples of the optimal size\n",
    "def optimal_size_test(size, confidence,times, df_A, df_B, target_variable):\n",
    "    for i in range(times):\n",
    "        print('This is the No.%s test:' % (i+1))\n",
    "        sample_df_A = df_A.sample(size)\n",
    "        sample_df_B = df_B.sample(size)\n",
    "        # get the mean\n",
    "        x1 = cal_conversion_rate(sample_df_A, target_variable)\n",
    "        x2 = cal_conversion_rate(sample_df_B, target_variable)\n",
    "        # do A/B testing\n",
    "        do_abtesting(pa = x1, pb = x2, b_size = size, confidence =  confidence)\n",
    "        print('-'*40)"
   ]
  },
  {
   "cell_type": "code",
   "execution_count": 14,
   "metadata": {},
   "outputs": [
    {
     "name": "stdout",
     "output_type": "stream",
     "text": [
      "This is the No.1 test:\n",
      "The conversion rate is:0.15871559633027524\n",
      "The conversion rate is:0.19541284403669726\n",
      "z-score of variant b: 3.3156258803920493 > z-score of the confidence rate: 1.6448536269514722\n",
      "\n",
      "We can reject null hypothesis given that confidence rate.\n",
      "\n",
      "Therefore, implementing alternative B can improve the conversion rates over applying alternative A.\n",
      "----------------------------------------\n",
      "This is the No.2 test:\n",
      "The conversion rate is:0.14128440366972478\n",
      "The conversion rate is:0.20550458715596331\n",
      "z-score of variant b: 6.087135989381587 > z-score of the confidence rate: 1.6448536269514722\n",
      "\n",
      "We can reject null hypothesis given that confidence rate.\n",
      "\n",
      "Therefore, implementing alternative B can improve the conversion rates over applying alternative A.\n",
      "----------------------------------------\n",
      "This is the No.3 test:\n",
      "The conversion rate is:0.12844036697247707\n",
      "The conversion rate is:0.18073394495412845\n",
      "z-score of variant b: 5.1601494994954225 > z-score of the confidence rate: 1.6448536269514722\n",
      "\n",
      "We can reject null hypothesis given that confidence rate.\n",
      "\n",
      "Therefore, implementing alternative B can improve the conversion rates over applying alternative A.\n",
      "----------------------------------------\n",
      "This is the No.4 test:\n",
      "The conversion rate is:0.14220183486238533\n",
      "The conversion rate is:0.18623853211009175\n",
      "z-score of variant b: 4.162773985220301 > z-score of the confidence rate: 1.6448536269514722\n",
      "\n",
      "We can reject null hypothesis given that confidence rate.\n",
      "\n",
      "Therefore, implementing alternative B can improve the conversion rates over applying alternative A.\n",
      "----------------------------------------\n",
      "This is the No.5 test:\n",
      "The conversion rate is:0.14128440366972478\n",
      "The conversion rate is:0.20917431192660552\n",
      "z-score of variant b: 6.434972331631964 > z-score of the confidence rate: 1.6448536269514722\n",
      "\n",
      "We can reject null hypothesis given that confidence rate.\n",
      "\n",
      "Therefore, implementing alternative B can improve the conversion rates over applying alternative A.\n",
      "----------------------------------------\n",
      "This is the No.6 test:\n",
      "The conversion rate is:0.14587155963302753\n",
      "The conversion rate is:0.18256880733944955\n",
      "z-score of variant b: 3.432415366978623 > z-score of the confidence rate: 1.6448536269514722\n",
      "\n",
      "We can reject null hypothesis given that confidence rate.\n",
      "\n",
      "Therefore, implementing alternative B can improve the conversion rates over applying alternative A.\n",
      "----------------------------------------\n",
      "This is the No.7 test:\n",
      "The conversion rate is:0.15871559633027524\n",
      "The conversion rate is:0.18440366972477065\n",
      "z-score of variant b: 2.3209381162744345 > z-score of the confidence rate: 1.6448536269514722\n",
      "\n",
      "We can reject null hypothesis given that confidence rate.\n",
      "\n",
      "Therefore, implementing alternative B can improve the conversion rates over applying alternative A.\n",
      "----------------------------------------\n",
      "This is the No.8 test:\n",
      "The conversion rate is:0.15137614678899083\n",
      "The conversion rate is:0.20091743119266056\n",
      "z-score of variant b: 4.563459181932025 > z-score of the confidence rate: 1.6448536269514722\n",
      "\n",
      "We can reject null hypothesis given that confidence rate.\n",
      "\n",
      "Therefore, implementing alternative B can improve the conversion rates over applying alternative A.\n",
      "----------------------------------------\n",
      "This is the No.9 test:\n",
      "The conversion rate is:0.15504587155963304\n",
      "The conversion rate is:0.20275229357798166\n",
      "z-score of variant b: 4.351544461053513 > z-score of the confidence rate: 1.6448536269514722\n",
      "\n",
      "We can reject null hypothesis given that confidence rate.\n",
      "\n",
      "Therefore, implementing alternative B can improve the conversion rates over applying alternative A.\n",
      "----------------------------------------\n",
      "This is the No.10 test:\n",
      "The conversion rate is:0.15871559633027524\n",
      "The conversion rate is:0.20917431192660552\n",
      "z-score of variant b: 4.558985585539068 > z-score of the confidence rate: 1.6448536269514722\n",
      "\n",
      "We can reject null hypothesis given that confidence rate.\n",
      "\n",
      "Therefore, implementing alternative B can improve the conversion rates over applying alternative A.\n",
      "----------------------------------------\n"
     ]
    }
   ],
   "source": [
    "optimal_size_test(size = op_n , confidence = 0.95,times  = 10, df_A  = df_A, df_B = df_B, target_variable = 'purchase_TF')\n",
    "   "
   ]
  },
  {
   "cell_type": "markdown",
   "metadata": {},
   "source": [
    "## Q3-1\n",
    "### Conduct a sequential test for the 10 sample, and find the average number of iterations required to stop the test.\n",
    "\n"
   ]
  },
  {
   "cell_type": "code",
   "execution_count": 18,
   "metadata": {},
   "outputs": [],
   "source": [
    "import random\n",
    "def conduct_sprt(times, size, alpha, power, df,df_A, df_B, target_variable):\n",
    "    ln_A = math.log(1/alpha)\n",
    "    ln_B = math.log(1-power)\n",
    "    iteration = []\n",
    "    for i in range(times):\n",
    "        print('This is the No.%s test:' % (i+1))\n",
    "        sample_df_A = df_A.sample(size)\n",
    "        sample_df_B = df_B.sample(size)\n",
    "        # get the mean\n",
    "        pa = cal_conversion_rate(sample_df_A, target_variable)\n",
    "        pb = cal_conversion_rate(sample_df_B, target_variable)\n",
    "        # randomly shuffle data frame rows\n",
    "        total_list = df['Variant'].tolist()\n",
    "        random.shuffle(total_list)\n",
    "        i = 0\n",
    "        sum_log_lambda = 0\n",
    "        while (sum_log_lambda > ln_B) and (sum_log_lambda < ln_A):\n",
    "            if total_list[i] == 'B':\n",
    "                sum_log_lambda += np.log(pa/pb)\n",
    "            else:\n",
    "                sum_log_lambda += np.log((1-pa)/(1-pb))\n",
    "            i+=1\n",
    "            if i >= len(total_list):\n",
    "                print('We can not stop the test prior to using the full sample')\n",
    "                break\n",
    "        if sum_log_lambda <= ln_B:\n",
    "            print('We fail to reject H0 in %s trials' % i)\n",
    "        elif sum_log_lambda >= ln_A:\n",
    "            print('We can reject H0 in %s trials' % i)\n",
    "        print('-'*50)\n",
    "        iteration.append(i)\n",
    "    avg_iter = np.average(iteration)\n",
    "    print('The average number of iterations required to stop the test is {}'.format(avg_iter))\n",
    "    return avg_iter\n",
    "                    \n",
    "            \n",
    "            "
   ]
  },
  {
   "cell_type": "code",
   "execution_count": null,
   "metadata": {},
   "outputs": [
    {
     "name": "stdout",
     "output_type": "stream",
     "text": [
      "This is the No.1 test:\n",
      "The conversion rate is:0.14882425742574257\n",
      "The conversion rate is:0.18471534653465346\n",
      "We can reject H0 in 70 trials\n",
      "--------------------------------------------------\n",
      "This is the No.2 test:\n",
      "The conversion rate is:0.14975247524752475\n",
      "The conversion rate is:0.17790841584158415\n",
      "We can reject H0 in 138 trials\n",
      "--------------------------------------------------\n",
      "This is the No.3 test:\n",
      "The conversion rate is:0.14016089108910892\n",
      "The conversion rate is:0.17264851485148514\n"
     ]
    }
   ],
   "source": [
    "conduct_sprt(times = 10, size = op_n , alpha = 0.05, power = 0.8, df = df,df_A = df_A, df_B = df_B, target_variable = 'purchase_TF')"
   ]
  },
  {
   "cell_type": "code",
   "execution_count": null,
   "metadata": {},
   "outputs": [],
   "source": []
  }
 ],
 "metadata": {
  "kernelspec": {
   "display_name": "Python 3",
   "language": "python",
   "name": "python3"
  },
  "language_info": {
   "codemirror_mode": {
    "name": "ipython",
    "version": 3
   },
   "file_extension": ".py",
   "mimetype": "text/x-python",
   "name": "python",
   "nbconvert_exporter": "python",
   "pygments_lexer": "ipython3",
   "version": "3.8.3"
  }
 },
 "nbformat": 4,
 "nbformat_minor": 4
}
